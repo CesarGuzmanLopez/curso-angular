{
 "cells": [
  {
   "cell_type": "markdown",
   "id": "ee4c7952-a772-4424-a6c7-aa30311a2e20",
   "metadata": {},
   "source": [
    "# Funcionalidades de clases y objetos\n",
    "\n",
    "En este conjunto de temas avanzados, exploraremos características poderosas y sofisticadas de las clases en TypeScript, que van más allá de las funcionalidades básicas de definir objetos y métodos. A continuación, presentamos una breve descripción de cada uno de estos temas\n",
    "\n"
   ]
  },
  {
   "cell_type": "markdown",
   "id": "468aac61",
   "metadata": {},
   "source": [
    "## Miembros de Clase 🏗️\n",
    "\n",
    "Los miembros de clase, que incluyen campos, métodos, getters/setters y firmas de índice, son fundamentales para definir el comportamiento y las propiedades de una clase.\n"
   ]
  },
  {
   "cell_type": "markdown",
   "id": "fba52c56",
   "metadata": {},
   "source": [
    "\n",
    "## Herencia de Clases 🏰\n",
    "\n",
    "La herencia de clases nos permite crear nuevas clases basadas en clases existentes, compartiendo así comportamientos y propiedades.\n"
   ]
  },
  {
   "cell_type": "markdown",
   "id": "bfde5985",
   "metadata": {},
   "source": [
    "\n",
    "## Visibilidad de Miembros 🔍\n",
    "\n",
    "La visibilidad de miembros, como `public`, `protected` y `private`, controla el acceso a los miembros de una clase desde fuera de la misma.\n"
   ]
  },
  {
   "cell_type": "markdown",
   "id": "cc68081c",
   "metadata": {},
   "source": [
    "\n",
    "## Miembros Estáticos ⚡\n",
    "\n",
    "Los miembros estáticos pertenecen a la clase en su conjunto en lugar de a instancias individuales de la clase. Son útiles para definir métodos o propiedades que no dependen del estado de una instancia.\n"
   ]
  },
  {
   "cell_type": "markdown",
   "id": "7c1abaa5",
   "metadata": {},
   "source": [
    "\n",
    "## Bloques estáticos en Clases 🧱\n",
    "\n",
    "Los bloques estáticos en clases son segmentos de código que se ejecutan una sola vez cuando se carga la clase.\n"
   ]
  },
  {
   "cell_type": "markdown",
   "id": "369bd29b",
   "metadata": {},
   "source": [
    "\n",
    "## Clases Genéricas 🧬\n",
    "\n",
    "Las clases genéricas permiten definir clases que pueden trabajar con cualquier tipo de datos.\n"
   ]
  },
  {
   "cell_type": "markdown",
   "id": "9181c284",
   "metadata": {},
   "source": [
    "\n",
    "## `this` en Tiempo de Ejecución en Clases 🕒\n",
    "\n",
    "El uso de `this` en clases puede ser complejo. Las funciones de flecha, los parámetros `this` y los tipos basados en `this` son aspectos importantes a considerar.\n"
   ]
  },
  {
   "cell_type": "markdown",
   "id": "838fb14f",
   "metadata": {},
   "source": [
    "\n",
    "## Propiedades de Parámetros 🎯\n",
    "\n",
    "Las propiedades de parámetros nos permiten simplificar la inicialización de propiedades de clase basadas en los parámetros del constructor.\n",
    "\n"
   ]
  },
  {
   "cell_type": "markdown",
   "id": "fd2cff77",
   "metadata": {},
   "source": [
    "## Expresiones de Clase 💡\n",
    "\n",
    "Las expresiones de clase son una forma alternativa de definir clases que pueden ser anónimas y asignadas a variables.\n",
    "\n"
   ]
  },
  {
   "cell_type": "markdown",
   "id": "ac03e97c",
   "metadata": {},
   "source": [
    "## Firmas de Constructor 🏷️\n",
    "\n",
    "Las firmas de constructor nos permiten definir interfaces para constructores de clase sin proporcionar una implementación concreta.\n",
    "\n"
   ]
  },
  {
   "cell_type": "markdown",
   "id": "cd63052d",
   "metadata": {},
   "source": [
    "## Clases Abstractas y Miembros 🌌\n",
    "\n",
    "Las clases abstractas y los miembros abstractos son aquellos que no tienen implementación directa y deben ser definidos por clases derivadas.\n"
   ]
  },
  {
   "cell_type": "markdown",
   "id": "fd0efbba",
   "metadata": {},
   "source": [
    "\n",
    "## Relaciones Entre Clases 🤝\n",
    "\n",
    "Las relaciones entre clases exploran cómo las clases pueden interactuar entre sí, ya sea mediante herencia, implementación de interfaces u otras formas de asociación.\n"
   ]
  },
  {
   "cell_type": "markdown",
   "id": "9bad0252",
   "metadata": {},
   "source": [
    "```{dropdown} referencias\n",
    "   Este contenido está fuertemente inspirado en la documentación oficial de TypeScript - [TypeScriptLang](https://www.typescriptlang.org/docs/handbook/2/classes.html) 📚.\n",
    "```"
   ]
  }
 ],
 "metadata": {
  "kernelspec": {
   "display_name": "TypeScript",
   "language": "typescript",
   "name": "tslab"
  },
  "language_info": {
   "codemirror_mode": {
    "mode": "typescript",
    "name": "javascript",
    "typescript": true
   },
   "file_extension": ".ts",
   "mimetype": "text/typescript",
   "name": "typescript",
   "version": "3.7.2"
  }
 },
 "nbformat": 4,
 "nbformat_minor": 5
}
