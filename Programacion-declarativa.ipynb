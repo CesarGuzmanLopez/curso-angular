{
 "cells": [
  {
   "cell_type": "markdown",
   "id": "ee4c7952-a772-4424-a6c7-aa30311a2e20",
   "metadata": {},
   "source": [
    "# Programacion declarativa\n",
    "\n",
    "\n",
    "\n",
    "\n",
    "## **Introducción a la Programación Declarativa** 🌟\n",
    "\n",
    "   - Conceptos fundamentales de la programación declarativa.\n",
    "   - Enfoque en describir qué hacer en lugar de cómo hacerlo.\n",
    "\n",
    "## **Funciones de Orden Superior**  \n",
    "   - Uso de funciones `map`, `filter` y `reduce` en arreglos.\n",
    "   - Permiten realizar transformaciones y filtrado de datos de manera declarativa.\n",
    "\n",
    "## **Manipulación de Objetos con Librerías Externas** 📚\n",
    "   - Utilización de librerías como Lodash para manipular objetos de forma declarativa.\n",
    "   - Ejemplos de uso de funciones como `filter`, `map` y `groupBy` en objetos.\n",
    "\n",
    "## **Composición de Funciones** 🔄\n",
    "   - Aplicación de múltiples transformaciones a un valor de manera concisa.\n",
    "   - Creación de funciones compuestas para realizar operaciones complejas.\n",
    "\n",
    "## **Inmutabilidad y Estructuras Persistentes** 🔒\n",
    "   - Enfoque en mantener los datos inmutables para evitar efectos secundarios.\n",
    "   - Uso de estructuras de datos persistentes para garantizar la inmutabilidad.\n",
    "\n",
    "## **Flujo de Control Declarativo** 🎭\n",
    "   - Uso de condicionales ternarios para controlar el flujo del programa de manera declarativa.\n",
    "   - Expresiones condicionales concisas y legibles.\n",
    "\n",
    "\n"
   ]
  }
 ],
 "metadata": {
  "kernelspec": {
   "display_name": "TypeScript",
   "language": "typescript",
   "name": "tslab"
  },
  "language_info": {
   "codemirror_mode": {
    "mode": "typescript",
    "name": "javascript",
    "typescript": true
   },
   "file_extension": ".ts",
   "mimetype": "text/typescript",
   "name": "typescript",
   "version": "3.7.2"
  }
 },
 "nbformat": 4,
 "nbformat_minor": 5
}
