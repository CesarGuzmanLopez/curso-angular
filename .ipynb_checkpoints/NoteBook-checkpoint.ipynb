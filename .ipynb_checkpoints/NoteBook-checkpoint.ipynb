{
 "cells": [
  {
   "cell_type": "markdown",
   "id": "ee4c7952-a772-4424-a6c7-aa30311a2e20",
   "metadata": {},
   "source": [
    "# Este es el titulo de este NoteBook"
   ]
  },
  {
   "cell_type": "code",
   "execution_count": 1,
   "id": "0d89b5d5-55f3-444b-a016-7dfb695c74ae",
   "metadata": {},
   "outputs": [
    {
     "name": "stdout",
     "output_type": "stream",
     "text": [
      "[ \u001b[33m1\u001b[39m, \u001b[33m4\u001b[39m, \u001b[33m9\u001b[39m, \u001b[33m16\u001b[39m, \u001b[33m25\u001b[39m ]\n",
      "[ \u001b[33m2\u001b[39m, \u001b[33m4\u001b[39m ]\n",
      "\u001b[33m15\u001b[39m\n"
     ]
    }
   ],
   "source": [
    "// Ejemplo de programación declarativa usando map para transformar un arreglo\n",
    "const numbers = [1, 2, 3, 4, 5];\n",
    "const squaredNumbers = numbers.map(num => num * num);\n",
    "console.log(squaredNumbers); // Output: [1, 4, 9, 16, 25]\n",
    "\n",
    "// Ejemplo de programación declarativa usando filter para filtrar un arreglo\n",
    "const evenNumbers = numbers.filter(num => num % 2 === 0);\n",
    "console.log(evenNumbers); // Output: [2, 4]\n",
    "\n",
    "// Ejemplo de programación declarativa usando reduce para reducir un arreglo a un valor único\n",
    "const sum = numbers.reduce((acc, curr) => acc + curr, 0);\n",
    "console.log(sum); // Output: 15\n"
   ]
  },
  {
   "cell_type": "code",
   "execution_count": 2,
   "id": "3d0aa770-c56d-4c6e-a972-65f70c5db32a",
   "metadata": {},
   "outputs": [
    {
     "name": "stdout",
     "output_type": "stream",
     "text": [
      "Método myMethod fue llamado\n",
      "Ejecutando myMethod\n"
     ]
    }
   ],
   "source": [
    "// Definir un decorador de ejemplo\n",
    "function log(target: any, key: string, descriptor: PropertyDescriptor) {\n",
    "  console.log(`Método ${key} fue llamado`);\n",
    "}\n",
    "\n",
    "class MyClass {\n",
    "  @log\n",
    "  myMethod() {\n",
    "    console.log('Ejecutando myMethod');\n",
    "  }\n",
    "}\n",
    "\n",
    "const instance = new MyClass();\n",
    "instance.myMethod(); // Output: Método myMethod fue llamado \\n Ejecutando myMethod\n"
   ]
  },
  {
   "cell_type": "code",
   "execution_count": 3,
   "id": "1b9c9132-c903-49c1-a30b-6cc3ad1cbf10",
   "metadata": {},
   "outputs": [
    {
     "name": "stdout",
     "output_type": "stream",
     "text": [
      "Timeout {\n",
      "  _idleTimeout: \u001b[33m5000\u001b[39m,\n",
      "  _idlePrev: \u001b[36m[TimersList]\u001b[39m,\n",
      "  _idleNext: \u001b[36m[TimersList]\u001b[39m,\n",
      "  _idleStart: \u001b[33m1329\u001b[39m,\n",
      "  _onTimeout: \u001b[36m[Function (anonymous)]\u001b[39m,\n",
      "  _timerArgs: \u001b[90mundefined\u001b[39m,\n",
      "  _repeat: \u001b[1mnull\u001b[22m,\n",
      "  _destroyed: \u001b[33mfalse\u001b[39m,\n",
      "  [\u001b[32mSymbol(refed)\u001b[39m]: \u001b[33mtrue\u001b[39m,\n",
      "  [\u001b[32mSymbol(kHasPrimitive)\u001b[39m]: \u001b[33mfalse\u001b[39m,\n",
      "  [\u001b[32mSymbol(asyncId)\u001b[39m]: \u001b[33m2903\u001b[39m,\n",
      "  [\u001b[32mSymbol(triggerId)\u001b[39m]: \u001b[33m0\u001b[39m\n",
      "}\n",
      "\u001b[33m0\u001b[39m\n",
      "\u001b[33m1\u001b[39m\n",
      "\u001b[33m2\u001b[39m\n",
      "\u001b[33m3\u001b[39m\n"
     ]
    }
   ],
   "source": [
    "import { Observable } from 'rxjs';\n",
    "\n",
    "// Crear un observable que emite valores cada segundo\n",
    "const observable = new Observable<number>(subscriber => {\n",
    "  let count = 0;\n",
    "  const interval = setInterval(() => {\n",
    "    subscriber.next(count++);\n",
    "  }, 1000);\n",
    "\n",
    "  // Limpiar intervalo cuando se complete el observable\n",
    "  return () => clearInterval(interval);\n",
    "});\n",
    "\n",
    "// Suscribirse al observable y mostrar los valores\n",
    "const subscription = observable.subscribe(value => console.log(value));\n",
    "\n",
    "// Desuscribirse después de 5 segundos\n",
    "setTimeout(() => {\n",
    "  subscription.unsubscribe();\n",
    "}, 5000);\n"
   ]
  },
  {
   "cell_type": "code",
   "execution_count": null,
   "id": "323889ea-71ac-47cb-83bf-39b96ccaacbd",
   "metadata": {},
   "outputs": [],
   "source": []
  },
  {
   "cell_type": "code",
   "execution_count": null,
   "id": "f3bc7386-2dab-43f4-a41b-47d633278461",
   "metadata": {},
   "outputs": [],
   "source": []
  },
  {
   "cell_type": "code",
   "execution_count": null,
   "id": "4bdee6e9-6ada-41e7-b21a-4432382d1541",
   "metadata": {},
   "outputs": [],
   "source": []
  }
 ],
 "metadata": {
  "kernelspec": {
   "display_name": "TypeScript",
   "language": "typescript",
   "name": "tslab"
  },
  "language_info": {
   "codemirror_mode": {
    "mode": "typescript",
    "name": "javascript",
    "typescript": true
   },
   "file_extension": ".ts",
   "mimetype": "text/typescript",
   "name": "typescript",
   "version": "3.7.2"
  }
 },
 "nbformat": 4,
 "nbformat_minor": 5
}
