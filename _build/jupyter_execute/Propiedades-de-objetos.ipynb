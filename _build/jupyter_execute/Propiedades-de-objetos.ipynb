{
 "cells": [
  {
   "cell_type": "markdown",
   "id": "ee4c7952-a772-4424-a6c7-aa30311a2e20",
   "metadata": {},
   "source": [
    "# Funcionalidades de clases y objetos\n",
    "\n",
    "En este conjunto de temas avanzados, exploraremos características poderosas y sofisticadas de las clases en TypeScript, que van más allá de las funcionalidades básicas de definir objetos y métodos. A continuación, presentamos una breve descripción de cada uno de estos temas\n",
    "\n"
   ]
  },
  {
   "cell_type": "markdown",
   "id": "468aac61",
   "metadata": {},
   "source": [
    "## Miembros de Clase 🏗️\n",
    "\n",
    "Los miembros de clase, que incluyen campos, métodos, getters/setters y firmas de índice, son fundamentales para definir el comportamiento y las propiedades de una clase.\n"
   ]
  },
  {
   "cell_type": "code",
   "execution_count": 39,
   "id": "70a3baa6",
   "metadata": {},
   "outputs": [
    {
     "name": "stdout",
     "output_type": "stream",
     "text": [
      "Juan\n",
      "¡Hola, soy Juan!\n",
      "Mi nombre completo es Juan\n",
      "Mi nombre completo es Pedro\n"
     ]
    }
   ],
   "source": [
    "// Definición de una clase que utiliza varios tipos de miembros\n",
    "class Persona {\n",
    "    // Campo de clase\n",
    "    nombre: string;\n",
    "    \n",
    "    // Constructor\n",
    "    constructor(nombre: string) {\n",
    "        this.nombre = nombre;\n",
    "    }\n",
    "    \n",
    "    // Método de instancia\n",
    "    saludar() {\n",
    "        console.log(`¡Hola, soy ${this.nombre}!`);\n",
    "    }\n",
    "    \n",
    "    // Getter\n",
    "    get NombreCompleto(): string {\n",
    "        return `Mi nombre completo es ${this.nombre}`;\n",
    "    }\n",
    "    \n",
    "    // Setter\n",
    "    set NombreCompleto(nuevoNombre: string) {\n",
    "        this.nombre = nuevoNombre;\n",
    "    }\n",
    "    \n",
    "\n",
    "}\n",
    "\n",
    "// Crear una instancia de la clase Persona\n",
    "const persona1 = new Persona(\"Juan\");\n",
    "\n",
    "// Acceder al campo de clase\n",
    "console.log(persona1.nombre); // Output: Juan\n",
    "\n",
    "// Llamar al método de instancia\n",
    "persona1.saludar(); // Output: ¡Hola, soy Juan!\n",
    "\n",
    "// Usar el getter\n",
    "console.log(persona1.NombreCompleto); // Output: Mi nombre completo es Juan\n",
    "\n",
    "// Usar el setter\n",
    "persona1.NombreCompleto = \"Pedro\";\n",
    "console.log(persona1.NombreCompleto); // Output: Mi nombre completo es Pedro\n",
    "\n"
   ]
  },
  {
   "cell_type": "markdown",
   "id": "b8b775fa",
   "metadata": {},
   "source": [
    "```{note}\n",
    "Los getters y setters son esenciales en frameworks como Angular. Actúan como variables pero permiten una gestión más segura y reactiva de los datos y asignerles afectos secundarios. En Angular, son útiles para manipular datos en componentes y servicios. Los getters obtienen valores de propiedades de forma segura, mientras que los setters actualizan esos valores de manera controlada, manteniendo la coherencia de los datos y evitando efectos secundarios no deseados.\n",
    "\n",
    "\n",
    "```"
   ]
  },
  {
   "cell_type": "markdown",
   "id": "fba52c56",
   "metadata": {},
   "source": [
    "\n",
    "## Herencia de Clases 🏰\n",
    "\n",
    "La herencia de clases nos permite crear nuevas clases basadas en clases existentes, compartiendo así comportamientos y propiedades.\n"
   ]
  },
  {
   "cell_type": "code",
   "execution_count": 40,
   "id": "0cd67e91",
   "metadata": {},
   "outputs": [
    {
     "name": "stdout",
     "output_type": "stream",
     "text": [
      "Koby se está moviendo.\n",
      "Koby está ladrando.\n"
     ]
    }
   ],
   "source": [
    "// Definición de la clase base\n",
    "class Animal {\n",
    "    constructor(public nombre: string) {}\n",
    "\n",
    "    moverse() {\n",
    "        console.log(`${this.nombre} se está moviendo.`);\n",
    "    }\n",
    "}\n",
    "\n",
    "// Definición de una subclase que hereda de la clase base\n",
    "class Perro extends Animal {\n",
    "    constructor(nombre: string, public raza: string) {\n",
    "        super(nombre);\n",
    "    }\n",
    "\n",
    "    ladrar() {\n",
    "        console.log(`${this.nombre} está ladrando.`);\n",
    "    }\n",
    "}\n",
    "\n",
    "// Creación de una instancia de la subclase\n",
    "const miPerro = new Perro(\"Koby\", \"Labrador\");\n",
    "\n",
    "// Acceso a métodos de la clase base y subclase\n",
    "miPerro.moverse(); // Output: Max se está moviendo.\n",
    "miPerro.ladrar(); // Output: Max está ladrando."
   ]
  },
  {
   "cell_type": "markdown",
   "id": "bfde5985",
   "metadata": {},
   "source": [
    "\n",
    "## Visibilidad de Miembros 🔍\n",
    "\n",
    "La visibilidad de miembros, como `public`, `protected` y `private`, controla el acceso a los miembros de una clase desde fuera de la misma.\n"
   ]
  },
  {
   "cell_type": "code",
   "execution_count": 41,
   "id": "74539f06",
   "metadata": {},
   "outputs": [
    {
     "name": "stdout",
     "output_type": "stream",
     "text": [
      "Juan\n",
      "Nombre: Juan\n"
     ]
    }
   ],
   "source": [
    "class Persona {\n",
    "    public nombre: string; // Miembro público\n",
    "    protected edad: number; // Miembro protegido\n",
    "    private telefono: string; // Miembro privado\n",
    "\n",
    "    constructor(nombre: string, edad: number, telefono: string) {\n",
    "        this.nombre = nombre;\n",
    "        this.edad = edad;\n",
    "        this.telefono = telefono;\n",
    "    }\n",
    "\n",
    "    public mostrarNombre(): void {\n",
    "        console.log(`Nombre: ${this.nombre}`);\n",
    "    }\n",
    "\n",
    "    protected mostrarEdad(): void {\n",
    "        console.log(`Edad: ${this.edad}`);\n",
    "    }\n",
    "\n",
    "    private mostrarTelefono(): void {\n",
    "        console.log(`Teléfono: ${this.telefono}`);\n",
    "    }\n",
    "}\n",
    "\n",
    "class Estudiante extends Persona {\n",
    "    constructor(nombre: string, edad: number, telefono: string) {\n",
    "        super(nombre, edad, telefono);\n",
    "    }\n",
    "\n",
    "    public mostrarDetalles(): void {\n",
    "        // Podemos acceder a los miembros protegidos de la clase base\n",
    "        this.mostrarNombre();\n",
    "        this.mostrarEdad();\n",
    "        // Pero no podemos acceder a los miembros privados de la clase base\n",
    "        // this.mostrarTelefono(); // Esto generaría un error\n",
    "    }\n",
    "}\n",
    "\n",
    "// Crear una instancia de la clase Persona\n",
    "const persona = new Persona(\"Juan\", 30, \"123456789\");\n",
    "\n",
    "// Acceder a miembros públicos\n",
    "console.log(persona.nombre); // Output: Juan\n",
    "persona.mostrarNombre(); // Output: Nombre: Juan\n",
    "\n",
    "// Acceder a miembros protegidos\n",
    "// console.log(persona.edad); // Esto generaría un error, ya que 'edad' es protegido\n",
    "// persona.mostrarEdad(); // Esto también generaría un error\n",
    "\n",
    "// Acceder a miembros privados\n",
    "// console.log(persona.telefono); // Esto generaría un error, ya que 'telefono' es privado\n",
    "// persona.mostrarTelefono(); // Esto también generaría un error\n"
   ]
  },
  {
   "cell_type": "markdown",
   "id": "cc68081c",
   "metadata": {},
   "source": [
    "\n",
    "## Miembros Estáticos ⚡\n",
    "\n",
    "Los miembros estáticos pertenecen a la clase en su conjunto en lugar de a instancias individuales de la clase. Son útiles para definir métodos o propiedades que no dependen del estado de una instancia.\n"
   ]
  },
  {
   "cell_type": "code",
   "execution_count": 42,
   "id": "1e78cd63",
   "metadata": {},
   "outputs": [
    {
     "name": "stdout",
     "output_type": "stream",
     "text": [
      "3.14159\n",
      "31.4159\n",
      "78.53975\n"
     ]
    }
   ],
   "source": [
    "class Utilidades {\n",
    "    static PI: number = 3.14159;\n",
    "\n",
    "    static calcularCircunferencia(radio: number): number {\n",
    "        return 2 * this.PI * radio;\n",
    "    }\n",
    "\n",
    "    static calcularAreaCirculo(radio: number): number {\n",
    "        return this.PI * radio * radio;\n",
    "    }\n",
    "}\n",
    "\n",
    "// Acceder a miembros estáticos sin necesidad de crear una instancia de la clase\n",
    "console.log(Utilidades.PI); // Output: 3.14159\n",
    "console.log(Utilidades.calcularCircunferencia(5)); // Output: 31.4159\n",
    "console.log(Utilidades.calcularAreaCirculo(5)); // Output: 78.53975\n"
   ]
  },
  {
   "cell_type": "markdown",
   "id": "7c1abaa5",
   "metadata": {},
   "source": [
    "\n",
    "## Bloques estáticos en Clases 🧱\n",
    "\n",
    "Los bloques estáticos en clases son segmentos de código que se ejecutan una sola vez cuando se carga la clase.\n"
   ]
  },
  {
   "cell_type": "code",
   "execution_count": 43,
   "id": "0cb31165",
   "metadata": {},
   "outputs": [
    {
     "name": "stdout",
     "output_type": "stream",
     "text": [
      "Este bloque estático se ejecuta una vez cuando se carga la clase.\n",
      "Se puede meter funcionalidad similar al construntor pero cuando se cargal la clase\n",
      "Se puede meter funcionalidad similar al construntor pero cuando se cargal la clase\n",
      "Se puede meter funcionalidad similar al construntor pero cuando se cargal la clase\n",
      "¡Hola desde el bloque estático!\n",
      "no pasa nada\n"
     ]
    }
   ],
   "source": [
    "class Ejemplo {\n",
    "    static mensaje: string;\n",
    "    mensaje ;\n",
    "    constructor(mensaje: string){\n",
    "        this.mensaje =  mensaje;\n",
    "    }\n",
    "    // Bloque estático\n",
    "    static {\n",
    "        console.log(\"Este bloque estático se ejecuta una vez cuando se carga la clase.\");\n",
    "        for(let i=0; i<3; i++){\n",
    "\n",
    "            console.log(\"Se puede meter funcionalidad similar al construntor pero cuando se cargal la clase\")\n",
    "        }\n",
    "        Ejemplo.mensaje = \"¡Hola desde el bloque estático!\";\n",
    "    }\n",
    "}\n",
    "\n",
    "console.log(Ejemplo.mensaje); // Output: \"¡Hola desde el bloque estático!\"\n",
    "\n",
    "let unEjemplo = new Ejemplo(\"no pasa nada\");\n",
    "\n",
    "let otroEjemplo = new Ejemplo(\"no pasa nada\");\n",
    "\n",
    "console.log(unEjemplo.mensaje)\n"
   ]
  },
  {
   "cell_type": "markdown",
   "id": "369bd29b",
   "metadata": {},
   "source": [
    "\n",
    "## Clases Genéricas 🧬\n",
    "\n",
    "Las clases genéricas permiten definir clases que pueden trabajar con cualquier tipo de datos.\n"
   ]
  },
  {
   "cell_type": "code",
   "execution_count": 44,
   "id": "8bf9441e",
   "metadata": {},
   "outputs": [
    {
     "name": "stdout",
     "output_type": "stream",
     "text": [
      "42\n",
      "Hola, mundo!\n"
     ]
    }
   ],
   "source": [
    "class Caja<T> {\n",
    "    contenido: T;\n",
    "\n",
    "    constructor(contenido: T) {\n",
    "        this.contenido = contenido;\n",
    "    }\n",
    "\n",
    "    obtenerContenido(): T {\n",
    "        return this.contenido;\n",
    "    }\n",
    "}\n",
    "\n",
    "// Crear una instancia de Caja para números\n",
    "const cajaNumeros = new Caja<number>(42);\n",
    "console.log(cajaNumeros.obtenerContenido()); // Output: 42\n",
    "\n",
    "// Crear una instancia de Caja para cadenas de texto\n",
    "const cajaTexto = new Caja<string>(\"Hola, mundo!\");\n",
    "console.log(cajaTexto.obtenerContenido()); // Output: \"Hola, mundo!"
   ]
  },
  {
   "cell_type": "markdown",
   "id": "9181c284",
   "metadata": {},
   "source": [
    "\n",
    "## `this` en Tiempo de Ejecución en Clases 🕒\n",
    "\n",
    "El uso de `this` en clases puede ser complejo. Las funciones de flecha, los parámetros `this` y los tipos basados en `this` son aspectos importantes a considerar.\n"
   ]
  },
  {
   "cell_type": "code",
   "execution_count": 45,
   "id": "68f25138",
   "metadata": {},
   "outputs": [
    {
     "name": "stdout",
     "output_type": "stream",
     "text": [
      "Valor de this dentro de arrowFunction: 10\n",
      "Valor de this dentro de methodWithThis: 10\n",
      "Tipo de la instancia: MyClass { value: 10, arrowFunction: [Function: arrowFunction] }\n"
     ]
    }
   ],
   "source": [
    "class MyClass {\n",
    "    private value: number;\n",
    "\n",
    "    constructor(value: number) {\n",
    "        this.value = value;\n",
    "    }\n",
    "\n",
    "    // Método que utiliza una función de flecha\n",
    "    arrowFunction = () => {\n",
    "        console.log(\"Valor de this dentro de arrowFunction:\", this.value);\n",
    "    }\n",
    "\n",
    "    // Método que utiliza un parámetro this\n",
    "    methodWithThis(this: MyClass) {\n",
    "        console.log(\"Valor de this dentro de methodWithThis:\", this.value);\n",
    "    }\n",
    "\n",
    "    // Método que devuelve el tipo de la clase misma\n",
    "    getThisType(): this {\n",
    "        return this;\n",
    "    }\n",
    "}\n",
    "//eje\n",
    "const obj = new MyClass(10);\n",
    "\n",
    "// Llamada a método que utiliza una función de flecha\n",
    "obj.arrowFunction();\n",
    "\n",
    "// Llamada a método que utiliza un parámetro this\n",
    "obj.methodWithThis();\n",
    "\n",
    "// Obtener el tipo de la instancia de la clase\n",
    "const objType = obj.getThisType();\n",
    "console.log(\"Tipo de la instancia:\", objType);\n",
    "\n",
    "\n",
    "\n",
    "\n",
    "//ejemplo avanzado de usi this para obtener informacion de la clase y sus hijos\n",
    "class ObjetoSistemaArchivos {\n",
    "    esArchivo(): this is Archivo {\n",
    "      return this instanceof Archivo;\n",
    "    }\n",
    "    esDirectorio(): this is Directorio {\n",
    "      return this instanceof Directorio;\n",
    "    }\n",
    "    esEnRed(): this is EnRed & this {\n",
    "      return this.enRed;\n",
    "    }\n",
    "    constructor(public ruta: string, private enRed: boolean) {}\n",
    "  }\n",
    "   \n",
    "  class Archivo extends ObjetoSistemaArchivos {\n",
    "    constructor(ruta: string, public contenido: string) {\n",
    "      super(ruta, false);\n",
    "    }\n",
    "  }\n",
    "   \n",
    "  class Directorio extends ObjetoSistemaArchivos {\n",
    "    hijos: ObjetoSistemaArchivos[];\n",
    "  }\n",
    "   \n",
    "  interface EnRed {\n",
    "    host: string;\n",
    "  }\n",
    "   \n",
    "  const fso: ObjetoSistemaArchivos = new Archivo(\"foo/bar.txt\", \"foo\");\n",
    "   \n",
    "  if (fso.esArchivo()) {\n",
    "    // fso es un Archivo\n",
    "    fso.contenido; // Acceso a la propiedad contenido\n",
    "  } else if (fso.esDirectorio()) {\n",
    "    // fso es un Directorio\n",
    "    fso.hijos; // Acceso a la propiedad hijos\n",
    "  } else if (fso.esEnRed()) {\n",
    "    // fso es EnRed & ObjetoSistemaArchivos\n",
    "    fso.host; // Acceso a la propiedad host\n",
    "  }\n",
    "  \n",
    "\n"
   ]
  },
  {
   "cell_type": "markdown",
   "id": "7c31210a",
   "metadata": {},
   "source": [
    "```{important} Cuidado \n",
    "En este codigo podemos ver que accedemos a miebros de la clase hijo e inclusive podemos verificar los tipos de la clase hija\n",
    "sin embargo es muy poco recomendado ya que puede generar facilmente dependencias circulares y efectos secundarios inesperados\n",
    "    `esArchivo(): this is Archivo {\n",
    "        return this instanceof Archivo;\n",
    "    }`\n",
    "\n",
    "\n",
    "\n",
    "```"
   ]
  },
  {
   "cell_type": "markdown",
   "id": "ac03e97c",
   "metadata": {},
   "source": [
    "## Firmas de Constructor 🏷️\n",
    "\n",
    "Las firmas de constructor nos permiten definir interfaces para constructores de clase sin proporcionar una implementación concreta.\n",
    "\n"
   ]
  },
  {
   "cell_type": "code",
   "execution_count": 46,
   "id": "71164c5d",
   "metadata": {},
   "outputs": [
    {
     "name": "stdout",
     "output_type": "stream",
     "text": [
      "Constructor ejecutado con valor: 10\n"
     ]
    }
   ],
   "source": [
    "interface Constructor {\n",
    "    new (value: number): any;\n",
    "}\n",
    "\n",
    "class Example {\n",
    "    constructor(value: number) {\n",
    "        console.log(\"Constructor ejecutado con valor:\", value);\n",
    "    }\n",
    "}\n",
    "\n",
    "// Definir una firma de constructor\n",
    "const ConstructorSignature: Constructor = Example;\n",
    "\n",
    "// Utilizar la firma del constructor para crear una instancia de la clase Example\n",
    "const instance = new ConstructorSignature(10);\n"
   ]
  },
  {
   "cell_type": "markdown",
   "id": "4473dc11",
   "metadata": {},
   "source": [
    "```{note} ¿Y para qué sirve esto? \n",
    "Bueno, es especialmente útil en la generación de frameworks, sobre todo en Angular. Hay funciones que requieren constructores específicos en su ciclo de vida para funcionar correctamente. Estas firmas de constructor pueden ser realmente útiles para esta tarea, aunque su aplicación está más orientada a la generación de frameworks.\n",
    "```"
   ]
  },
  {
   "cell_type": "markdown",
   "id": "24ea70ff",
   "metadata": {},
   "source": [
    "## Decoradores 📣🎧\n",
    "En TypeScript, los decoradores son funciones especiales que se pueden adjuntar a clases, métodos, propiedades o parámetros para modificar su comportamiento o agregar funcionalidades adicionales. Los decoradores se utilizan comúnmente en aplicaciones TypeScript, especialmente en frameworks como Angular, para añadir metadatos a clases y miembros, o para implementar funcionalidades como inyección de dependencias, validación de datos, registro de eventos, entre otras.\n",
    "\n",
    "Para crear un decorador en TypeScript, se define una función que toma uno, dos o tres argumentos, dependiendo del tipo de decorador que se esté creando. Estos argumentos representan el objeto de destino (clase, método, propiedad o parámetro), el nombre del miembro (sólo para decoradores de propiedad o método) y un descriptor de propiedad (sólo para decoradores de propiedad). La función decoradora puede realizar acciones basadas en estos argumentos, como modificar el comportamiento del miembro, agregar metadatos o realizar tareas adicionales."
   ]
  },
  {
   "cell_type": "code",
   "execution_count": 48,
   "id": "ab85f1ef",
   "metadata": {},
   "outputs": [
    {
     "name": "stdout",
     "output_type": "stream",
     "text": [
      "El método calcular fue llamado con los argumentos: [3,4] y retornó: 7\n",
      "7\n",
      "registra y cambia: El método calcularadd fue llamado con los argumentos: [3,4] y retornó: 7 pero le sumo 1\n",
      "8\n",
      "registra y cambia: El método calculaMuchoDecorador fue llamado con los argumentos: [3,4] y retornó: 7 pero le sumo 1\n",
      "El método calculaMuchoDecorador fue llamado con los argumentos: [3,4] y retornó: 8\n",
      "8\n"
     ]
    }
   ],
   "source": [
    "// Definición de la clase Registro\n",
    "class Registro {\n",
    "    registrar(mensaje: string) {\n",
    "        console.log(mensaje);\n",
    "    }\n",
    "}\n",
    "\n",
    "// Definición de un decorador de método personalizado\n",
    "function registrarMetodo(target: any, key: string, descriptor: PropertyDescriptor) {\n",
    "    const metodoOriginal = descriptor.value;\n",
    "\n",
    "    descriptor.value = function (...args: any[]) {\n",
    "        const resultado = metodoOriginal.apply(this, args);\n",
    "        console.log(`El método ${key} fue llamado con los argumentos: ${JSON.stringify(args)} y retornó: ${JSON.stringify(resultado)}`);\n",
    "        return resultado ;\n",
    "    };\n",
    "\n",
    "    return descriptor;\n",
    "}\n",
    "\n",
    "// Definición de un decorador de método personalizado\n",
    "function registrarMetodoycambia(target: any, key: string, descriptor: PropertyDescriptor) {\n",
    "    const metodoOriginal = descriptor.value;\n",
    "\n",
    "    descriptor.value = function (...args: any[]) {\n",
    "        const resultado = metodoOriginal.apply(this, args);\n",
    "        console.log(`registra y cambia: El método ${key} fue llamado con los argumentos: ${JSON.stringify(args)} y retornó: ${JSON.stringify(resultado)} pero le sumo 1`);\n",
    "        return resultado +1;\n",
    "    };\n",
    "\n",
    "    return descriptor;\n",
    "}\n",
    "\n",
    "\n",
    "// Clase que utiliza el decorador\n",
    "class Ejemplo {\n",
    "    registro = new Registro();\n",
    "    @registrarMetodo\n",
    "    calcular(x: number, y: number) {\n",
    "        return x + y;\n",
    "    }\n",
    "    @registrarMetodoycambia\n",
    "    calcularadd(x: number, y: number) {\n",
    "        return x + y;\n",
    "    }\n",
    "    @registrarMetodoycambia\n",
    "    @registrarMetodo\n",
    "    calculaMuchoDecorador(x: number, y: number) {\n",
    "        return x + y;\n",
    "    }\n",
    "\n",
    "}\n",
    "\n",
    "// Uso de la clase Ejemplo\n",
    "const ejemplo = new Ejemplo();\n",
    "let valor =ejemplo.calcular(3, 4); // Salida: El método calcular fue llamado con los argumentos: [3,4] y retornó: \n",
    "console.log(valor);\n",
    "valor= ejemplo.calcularadd(3, 4); // Salida: El método calcular fue llamado con los argumentos: [3,4] y retornó: 8\n",
    "console.log(valor);\n",
    "\n",
    "valor= ejemplo.calculaMuchoDecorador(3, 4); // Salida: El método calcular fue llamado con los argumentos: [3,4] y retornó: 8"
   ]
  },
  {
   "cell_type": "markdown",
   "id": "34e0f8f0",
   "metadata": {},
   "source": [
    "```{note} ¿Y enserio voy a usar esto ? \n",
    "Bueno, en este caso sí. Los decoradores son especialmente útiles en ciertos frameworks para extender el funcionamiento de ciertas funciones. Sin embargo, no los crearemos nosotros mismos, sino que los utilizaremos en el contexto adecuado.\n",
    "Y si como podemos ver puede modificar nuestros valores que esperamos asi que conocer su funcionamiento mas que para crear las funciones puede ser necesario para depurar codigo inesperado\n",
    "[referencias a decoradores](https://www.typescriptlang.org/docs/handbook/decorators.html)\n",
    "```"
   ]
  },
  {
   "cell_type": "markdown",
   "id": "9bad0252",
   "metadata": {},
   "source": [
    "```{dropdown} referencias\n",
    "   Este contenido está fuertemente inspirado en la documentación oficial de TypeScript - [TypeScriptLang](https://www.typescriptlang.org/play/?#example/async-await) 📚.\n",
    "```"
   ]
  }
 ],
 "metadata": {
  "kernelspec": {
   "display_name": "TypeScript",
   "language": "typescript",
   "name": "tslab"
  },
  "language_info": {
   "codemirror_mode": {
    "mode": "typescript",
    "name": "javascript",
    "typescript": true
   },
   "file_extension": ".ts",
   "mimetype": "text/typescript",
   "name": "typescript",
   "version": "3.7.2"
  }
 },
 "nbformat": 4,
 "nbformat_minor": 5
}