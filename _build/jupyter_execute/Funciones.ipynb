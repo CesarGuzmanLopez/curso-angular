{
 "cells": [
  {
   "cell_type": "markdown",
   "id": "ee4c7952-a772-4424-a6c7-aa30311a2e20",
   "metadata": {},
   "source": [
    "# Funciones\n",
    "\n",
    "1. **Declaración de funciones:** 📝\n",
    "   - En TypeScript, las funciones se pueden declarar utilizando la palabra clave `function`. Pueden tener un nombre y pueden o no tener parámetros y un tipo de retorno.\n",
    "\n",
    "2. **Parámetros y tipos de retorno:** 🔄\n",
    "   - Las funciones pueden tomar parámetros que especifican el tipo de datos que esperan recibir. También pueden especificar el tipo de dato que devuelven utilizando la notación `: tipo` después de la lista de parámetros.\n",
    "\n",
    "3. **Funciones anónimas y de flecha:** ➡️\n",
    "   - TypeScript permite definir funciones anónimas que no tienen nombre y se asignan a variables o se pasan como argumentos a otras funciones. Las funciones de flecha (`=>`) proporcionan una sintaxis más concisa para definir funciones y conservan el contexto de `this`.\n",
    "\n",
    "4. **Sobrecarga de funciones:** 🔄🔄\n",
    "   - TypeScript permite definir múltiples firmas de función para una misma función, lo que se conoce como sobrecarga de funciones. Esto permite que la misma función pueda aceptar diferentes tipos de argumentos y producir diferentes tipos de resultados. sin embargp esto no significa polimorfismo ya que la logica la debe mantener una unica funcion, para un tipo de logica polimorfica podriamos usar las funciones con parametros opcionales las cuales te permiten delcarar valores por default una funcion puede tener uno o varios parametros obligatorios y opcionales pero los obligatorios siempre deben ir primero\n",
    "\n",
    "5. **Funciones genéricas y su aplicación:** 🧬\n",
    "   - Las funciones genéricas en TypeScript permiten escribir funciones que pueden trabajar con una variedad de tipos de datos sin perder la información sobre esos tipos. Esto hace que las funciones sean más flexibles y reutilizables.\n"
   ]
  },
  {
   "cell_type": "code",
   "execution_count": 1,
   "id": "feb6c6d8",
   "metadata": {},
   "outputs": [
    {
     "name": "stdout",
     "output_type": "stream",
     "text": [
      "8\n",
      "¡Hola, Juan!\n",
      "8\n",
      "4\n",
      "3\n",
      "Nombre: Juan, Apellido: Perez, Edad: 0\n",
      "Nombre: Juan, Apellido: , Edad: 0\n",
      "1\n",
      "2\n",
      "3\n",
      "a\n",
      "b\n",
      "c\n"
     ]
    }
   ],
   "source": [
    "// Declaración de función con parámetros y tipo de retorno\n",
    "function suma(a: number, b: number): number {\n",
    "    return a + b;\n",
    "}\n",
    "\n",
    "// Función anónima asignada a una variable \n",
    "const saludar = function(nombre: string): void {\n",
    "    console.log(`¡Hola, ${nombre}!`);\n",
    "}\n",
    "\n",
    "// Función de flecha con parámetros y tipo de retorno\n",
    "const multiplicar = (a: number, b: number): number => {\n",
    "    return a * b;\n",
    "}\n",
    "\n",
    "// Sobrecarga de funciones\n",
    "function longitud(array: any[]): number;\n",
    "function longitud(cadena: string): number;\n",
    "function longitud(valor: any): number {\n",
    "    return valor.length;\n",
    "}\n",
    "\n",
    "// Función con parámetros opcionales\n",
    "function DatosPersonales(nombre, apellido=\"\", edad=0){\n",
    "    return `Nombre: ${nombre}, Apellido: ${apellido}, Edad: ${edad}`;\n",
    "}\n",
    "\n",
    "\n",
    "\n",
    "// Función genérica\n",
    "function imprimirElementos<T>(elementos: T[]): void {\n",
    "    elementos.forEach(elemento => console.log(elemento));\n",
    "}\n",
    "\n",
    "// Llamadas a las funciones\n",
    "console.log(suma(5, 3)); // Output: 8\n",
    "saludar(\"Juan\"); // Output: ¡Hola, Juan!\n",
    "console.log(multiplicar(2, 4)); // Output: 8\n",
    "console.log(longitud(\"Hola\")); // Output: 4\n",
    "console.log(longitud([1, 2, 3])); // Output: 3\n",
    "console.log(DatosPersonales(\"Juan\", \"Perez\")); // Output: Nombre: Juan, Apellido: Perez, Edad: 0 // ya que no se le paso la edad\n",
    "console.log(DatosPersonales(\"Juan\")); \n",
    "\n",
    "imprimirElementos([1, 2, 3]); // Output: 1, 2, 3\n",
    "imprimirElementos([\"a\", \"b\", \"c\"]); // Output: a, b, c\n",
    "\n",
    "\n"
   ]
  }
 ],
 "metadata": {
  "kernelspec": {
   "display_name": "TypeScript",
   "language": "typescript",
   "name": "tslab"
  },
  "language_info": {
   "codemirror_mode": {
    "mode": "typescript",
    "name": "javascript",
    "typescript": true
   },
   "file_extension": ".ts",
   "mimetype": "text/typescript",
   "name": "typescript",
   "version": "3.7.2"
  }
 },
 "nbformat": 4,
 "nbformat_minor": 5
}