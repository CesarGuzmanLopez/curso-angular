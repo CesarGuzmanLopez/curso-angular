{
 "cells": [
  {
   "cell_type": "markdown",
   "id": "e5a955ad-6291-4518-9dd1-e9202929665a",
   "metadata": {
    "jupyter": {
     "source_hidden": true
    }
   },
   "source": [
    "# este es yb tutyki"
   ]
  },
  {
   "cell_type": "code",
   "execution_count": 1,
   "id": "3d0aa770-c56d-4c6e-a972-65f70c5db32a",
   "metadata": {},
   "outputs": [
    {
     "name": "stdout",
     "output_type": "stream",
     "text": [
      "funciona\n"
     ]
    }
   ],
   "source": [
    "console.log(\"funciona\")"
   ]
  },
  {
   "cell_type": "code",
   "execution_count": null,
   "id": "385cc8f7-5dc8-4411-9ceb-8083412ff3c3",
   "metadata": {},
   "outputs": [],
   "source": []
  }
 ],
 "metadata": {
  "kernelspec": {
   "display_name": "JavaScript",
   "language": "javascript",
   "name": "jslab"
  },
  "language_info": {
   "file_extension": ".js",
   "mimetype": "text/javascript",
   "name": "javascript",
   "version": ""
  }
 },
 "nbformat": 4,
 "nbformat_minor": 5
}