{
 "cells": [
  {
   "cell_type": "markdown",
   "id": "ee4c7952-a772-4424-a6c7-aa30311a2e20",
   "metadata": {},
   "source": [
    "# Typescript\n",
    "TypeScript emerge como respuesta a la complejidad  del desarrollo web con JavaScript. Es el cimiento de numerosos frameworks como angular. Es importante destacar que el código en TypeScript normalemente se compila a JavaScript, permitiendo una compatibilidad universal con navegadores y entornos de ejecución. TypeScript, como todo lenguaje moderno es multiparadigma y adaptable a diversos estilos de programación. 💻✨\n",
    "Todo este contenido fue inspirado de la documentacion oficial de typescript\n",
    "https://www.typescriptlang.org/docs/handbook\n",
    "\n",
    "\n"
   ]
  }
 ],
 "metadata": {
  "kernelspec": {
   "display_name": "TypeScript",
   "language": "typescript",
   "name": "tslab"
  },
  "language_info": {
   "codemirror_mode": {
    "mode": "typescript",
    "name": "javascript",
    "typescript": true
   },
   "file_extension": ".ts",
   "mimetype": "text/typescript",
   "name": "typescript",
   "version": "3.7.2"
  }
 },
 "nbformat": 4,
 "nbformat_minor": 5
}