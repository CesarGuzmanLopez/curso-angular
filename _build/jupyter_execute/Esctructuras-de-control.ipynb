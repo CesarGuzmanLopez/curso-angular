{
 "cells": [
  {
   "cell_type": "markdown",
   "id": "ee4c7952-a772-4424-a6c7-aa30311a2e20",
   "metadata": {},
   "source": [
    "# Estructuras de control\n",
    "En typescritp hay  diversas estructuras\n",
    "1. **`if-else`:** 🤔\n",
    "   - Permite ejecutar un bloque de código si una condición es verdadera (`if`) o si no lo es (`else`).\n",
    "\n",
    "2. **`switch`:** 🎛️\n",
    "   - Permite evaluar una expresión y ejecutar diferentes bloques de código según el valor de esa expresión.\n",
    "\n",
    "3. **Bucles (`for`, `while`, `do-while`):** 🔄\n",
    "   - Permiten ejecutar un bloque de código repetidamente mientras se cumpla una condición.\n",
    "\n",
    "4. **Instrucciones `break` y `continue`:** ⏹️ ⏭️\n",
    "   - `break`: Detiene la ejecución de un bucle.\n",
    "   - `continue`: Salta a la siguiente iteración de un bucle.\n",
    "\n",
    "5. **Bucles de iteración (`for-of`, `for-in`):** 🔁\n",
    "   - `for-of`: Itera sobre los elementos de un objeto iterable.\n",
    "   - `for-in`: Itera sobre las propiedades enumerables de un objeto.\n",
    "\n",
    "## Estructuras de control condicionales\n",
    "\n",
    "**if y el else if**"
   ]
  },
  {
   "cell_type": "code",
   "execution_count": 2,
   "id": "feb6c6d8",
   "metadata": {},
   "outputs": [
    {
     "name": "stdout",
     "output_type": "stream",
     "text": [
      "Eres mayor de edad\n",
      "Buenas tardes\n",
      "Hoy es Miércoles\n"
     ]
    }
   ],
   "source": [
    "let edad: number = 18;\n",
    "\n",
    "if (edad >= 18) {\n",
    "    console.log(\"Eres mayor de edad\");\n",
    "} else {\n",
    "    console.log(\"Eres menor de edad\");\n",
    "}\n",
    "\n",
    "//Else if\n",
    "let hora: number = 15;\n",
    "\n",
    "if (hora < 12) {\n",
    "    console.log(\"Buenos días\");\n",
    "} else if (hora < 18) {\n",
    "    console.log(\"Buenas tardes\");\n",
    "} else {\n",
    "    console.log(\"Buenas noches\");\n",
    "}\n",
    "\n",
    "//switch\n",
    "\n",
    "let dia: number = 3;\n",
    "let nombreDia: string;\n",
    "\n",
    "switch (dia) {\n",
    "    case 1:\n",
    "        nombreDia = \"Lunes\";\n",
    "        break;\n",
    "    case 2:\n",
    "        nombreDia = \"Martes\";\n",
    "        break;\n",
    "    case 3:\n",
    "        nombreDia = \"Miércoles\";\n",
    "        break;\n",
    "    // Otros casos...\n",
    "    default:\n",
    "        nombreDia = \"Día desconocido\";\n",
    "        break;\n",
    "}\n",
    "\n",
    "console.log(`Hoy es ${nombreDia}`);"
   ]
  },
  {
   "cell_type": "markdown",
   "id": "bf51162f",
   "metadata": {},
   "source": [
    "## Estructuras de control repetitivas"
   ]
  },
  {
   "cell_type": "code",
   "execution_count": 1,
   "id": "79400e7d",
   "metadata": {},
   "outputs": [
    {
     "name": "stdout",
     "output_type": "stream",
     "text": [
      "for clásico\n",
      "0\n",
      "1\n",
      "2\n",
      "3\n",
      "4\n",
      "while\n",
      "0\n",
      "1\n",
      "2\n",
      "3\n",
      "4\n",
      "do while\n",
      "0\n",
      "1\n",
      "2\n",
      "for  con break y continue\n",
      "1\n",
      "3\n"
     ]
    }
   ],
   "source": [
    "console.log(\"for clásico\");\n",
    "//for clásico\n",
    "for (let i = 0; i < 5; i++) {\n",
    "    console.log(i);\n",
    "}\n",
    "//while \n",
    "console.log(\"while\");\n",
    "let contador = 0;\n",
    "\n",
    "while (contador < 5) {\n",
    "    console.log(contador);\n",
    "    contador++;\n",
    "}\n",
    "//do while\n",
    "console.log(\"do while\");\n",
    "let x = 0;\n",
    "\n",
    "do {\n",
    "    console.log(x);\n",
    "    x++;\n",
    "} while (x < 3);\n",
    "console.log(\"for  con break y continue\");\n",
    "\n",
    "//tambien existen  los brake y continue\n",
    "for (let i = 0; i < 10; i++) {\n",
    "    if (i === 5) {\n",
    "        break; // Sale del bucle cuando i es igual a 5\n",
    "    }\n",
    "    if (i % 2 === 0) {\n",
    "        continue; // Salta a la siguiente iteración si i es par\n",
    "    }\n",
    "    console.log(i);\n",
    "}\n"
   ]
  },
  {
   "cell_type": "markdown",
   "id": "73735ea8",
   "metadata": {},
   "source": [
    "## Iteradores\n"
   ]
  },
  {
   "cell_type": "markdown",
   "id": "517f968a",
   "metadata": {},
   "source": [
    "\n",
    "En interadores tenemos 2 el for-of y el for-in\n",
    "\n",
    "**for-of**"
   ]
  },
  {
   "cell_type": "code",
   "execution_count": 4,
   "id": "81a64780",
   "metadata": {},
   "outputs": [
    {
     "name": "stdout",
     "output_type": "stream",
     "text": [
      "1\n",
      "2\n",
      "3\n",
      "4\n",
      "5\n"
     ]
    }
   ],
   "source": [
    "let numeros: number[] = [1, 2, 3, 4, 5];\n",
    "\n",
    "for (let numero of numeros) {\n",
    "    console.log(numero);\n",
    "}\n"
   ]
  },
  {
   "cell_type": "markdown",
   "id": "3dcf481f",
   "metadata": {},
   "source": [
    "\n",
    "**for-in**"
   ]
  },
  {
   "cell_type": "code",
   "execution_count": 5,
   "id": "8bd8ccd0",
   "metadata": {},
   "outputs": [
    {
     "name": "stdout",
     "output_type": "stream",
     "text": [
      "nombre: Juan\n",
      "edad: 30\n",
      "ciudad: Madrid\n"
     ]
    }
   ],
   "source": [
    "let persona = {\n",
    "    nombre: \"Juan\",\n",
    "    edad: 30,\n",
    "    ciudad: \"Madrid\"\n",
    "};\n",
    "\n",
    "for (let propiedad in persona) {\n",
    "    console.log(`${propiedad}: ${persona[propiedad]}`);\n",
    "}\n"
   ]
  }
 ],
 "metadata": {
  "kernelspec": {
   "display_name": "TypeScript",
   "language": "typescript",
   "name": "tslab"
  },
  "language_info": {
   "codemirror_mode": {
    "mode": "typescript",
    "name": "javascript",
    "typescript": true
   },
   "file_extension": ".ts",
   "mimetype": "text/typescript",
   "name": "typescript",
   "version": "3.7.2"
  }
 },
 "nbformat": 4,
 "nbformat_minor": 5
}