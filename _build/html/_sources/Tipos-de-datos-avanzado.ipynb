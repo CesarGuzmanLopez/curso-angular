{
 "cells": [
  {
   "cell_type": "markdown",
   "id": "ee4c7952-a772-4424-a6c7-aa30311a2e20",
   "metadata": {},
   "source": [
    "# Tipos avanzados en TypeScript\n"
   ]
  },
  {
   "cell_type": "code",
   "execution_count": null,
   "id": "feb6c6d8",
   "metadata": {},
   "outputs": [],
   "source": []
  }
 ],
 "metadata": {
  "kernelspec": {
   "display_name": "TypeScript",
   "language": "typescript",
   "name": "tslab"
  },
  "language_info": {
   "codemirror_mode": {
    "mode": "typescript",
    "name": "javascript",
    "typescript": true
   },
   "file_extension": ".ts",
   "mimetype": "text/typescript",
   "name": "typescript",
   "version": "3.7.2"
  }
 },
 "nbformat": 4,
 "nbformat_minor": 5
}
