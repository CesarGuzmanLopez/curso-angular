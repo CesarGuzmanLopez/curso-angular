{
 "cells": [
  {
   "cell_type": "markdown",
   "id": "ee4c7952-a772-4424-a6c7-aa30311a2e20",
   "metadata": {},
   "source": [
    "# Typescript\n",
    "TypeScript emerge como respuesta a la complejidad  del desarrollo web con JavaScript. Es el cimiento de numerosos frameworks como angular. Es importante destacar que el código en TypeScript normalemente se compila a JavaScript, permitiendo una compatibilidad universal con navegadores y entornos de ejecución. TypeScript, como todo lenguaje moderno es multiparadigma y adaptable a diversos estilos de programación. 💻✨\n",
    "Todo este contenido fue inspirado de la documentacion oficial de typescript\n",
    "https://www.typescriptlang.org/docs/handbook\n",
    "\n",
    "una vez instalado typecript `npm install -g typescript`\n",
    "escribe el siguente codigo en un `archivo.ts`\n",
    "\n",
    "```typescript\n",
    "function saludar(nombre: string): string {\n",
    "  return `Hola, ${nombre}!`;\n",
    "}\n",
    "\n",
    "console.log(saludar(\"Mundo\"));\n",
    "```"
   ]
  },
  {
   "cell_type": "markdown",
   "id": "02dcd5a3",
   "metadata": {},
   "source": [
    "para compilarlo a js es \n",
    "```bash\n",
    "    tsc  archivo.ts\n",
    "```\n",
    "y para ejecutarlo\n",
    "```bash \n",
    "   node archivo.js\n",
    "```"
   ]
  },
  {
   "cell_type": "markdown",
   "id": "03903007",
   "metadata": {},
   "source": [
    "Si deseas ejecutar archivos TypeScript directamente sin tener que compilarlos primero a JavaScript, puedes usar la herramienta `ts-node`. Instálala globalmente con npm:\n",
    "\n",
    "```bash\n",
    "npm install -g ts-node\n",
    "npm install -g @types/node\n",
    "```\n",
    "y simplemente ejecuta\n",
    "```bash\n",
    "ts-node main.ts\n",
    "```"
   ]
  }
 ],
 "metadata": {
  "kernelspec": {
   "display_name": "TypeScript",
   "language": "typescript",
   "name": "tslab"
  },
  "language_info": {
   "codemirror_mode": {
    "mode": "typescript",
    "name": "javascript",
    "typescript": true
   },
   "file_extension": ".ts",
   "mimetype": "text/typescript",
   "name": "typescript",
   "version": "3.7.2"
  }
 },
 "nbformat": 4,
 "nbformat_minor": 5
}
