{
 "cells": [
  {
   "cell_type": "markdown",
   "id": "ee4c7952-a772-4424-a6c7-aa30311a2e20",
   "metadata": {},
   "source": [
    "# Concurrencia\n",
    "## Async/Await ⏳\n",
    "\n",
    "Async/Await es una forma moderna y más legible de trabajar con operaciones asíncronas en TypeScript. Permite escribir código asincrónico de manera síncrona, facilitando el manejo de promesas y evitando el anidamiento excesivo de callbacks.\n",
    "\n",
    "## Promesas 🤝\n",
    "\n",
    "Las promesas son objetos que representan la eventual finalización (o falla) de una operación asincrónica y su valor resultante.\n",
    "\n",
    "## Callbacks 🔄\n",
    "\n",
    "Los callbacks son funciones que se pasan como argumentos a otras funciones y se ejecutan después de que se complete una operación asincrónica.\n",
    "\n",
    "## Concurrencia 🔀\n",
    "\n",
    "La concurrencia en TypeScript se refiere a la capacidad de ejecutar múltiples tareas simultáneamente, aprovechando eficientemente los recursos del sistema.\n",
    "\n",
    "## Event Loop 🔄\n",
    "\n",
    "El Event Loop es un mecanismo utilizado en entornos de ejecución JavaScript para manejar las operaciones asíncronas de manera eficiente, garantizando que el código se ejecute de manera ordenada y sin bloqueos.\n",
    "\n",
    "## Web Workers 💼\n",
    "\n",
    "Los Web Workers son un mecanismo de concurrencia en navegadores web que permite ejecutar scripts en segundo plano, separados del hilo principal de ejecución de JavaScript, lo que mejora la capacidad de respuesta de las aplicaciones y la experiencia del usuario.\n",
    "\n"
   ]
  }
 ],
 "metadata": {
  "kernelspec": {
   "display_name": "TypeScript",
   "language": "typescript",
   "name": "tslab"
  },
  "language_info": {
   "codemirror_mode": {
    "mode": "typescript",
    "name": "javascript",
    "typescript": true
   },
   "file_extension": ".ts",
   "mimetype": "text/typescript",
   "name": "typescript",
   "version": "3.7.2"
  }
 },
 "nbformat": 4,
 "nbformat_minor": 5
}
