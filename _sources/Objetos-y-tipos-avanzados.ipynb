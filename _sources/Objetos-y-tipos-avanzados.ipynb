{
 "cells": [
  {
   "cell_type": "markdown",
   "id": "ee4c7952-a772-4424-a6c7-aa30311a2e20",
   "metadata": {},
   "source": [
    "# Clases, Objetos y Estructuras\n",
    "## Declaración de clases y objetos: 🛠️\n",
    "\n",
    "En TypeScript, los objetos se pueden declarar utilizando la notación de llaves `{}` y asignando valores a las propiedades.\n",
    "en TypeScript existe la palabra clave `class`, que se utiliza para definir clases, una característica fundamental de la programación orientada a objetos (OOP). Las clases en TypeScript permiten definir un modelo para crear objetos que contienen propiedades y métodos.\n",
    "De estos objetos tambien se pueden obtener sus valores a travez de la destructuracion"
   ]
  },
  {
   "cell_type": "code",
   "execution_count": 23,
   "id": "13a5ec6a",
   "metadata": {},
   "outputs": [
    {
     "name": "stdout",
     "output_type": "stream",
     "text": [
      "nombre: Cesar\n",
      "edad: 29\n",
      "casado: false\n",
      "Hola, soy Cesar y tengo 29 años.\n",
      "Nombre: Cesar\n",
      "Edad: 29\n"
     ]
    }
   ],
   "source": [
    "let persona = {\n",
    "    nombre: \"Cesar\",\n",
    "    edad: 29,\n",
    "    casado: false,\n",
    "};//aqui el punto y coma es muy importante en algunas versiones de typescript\n",
    "\n",
    "for (let key in persona) {\n",
    "    console.log(key + \": \" + persona[key]);\n",
    "}\n",
    "// Pero tambien un objeto se puede crear apartir de un prototipo o clase\n",
    "\n",
    "class Persona {\n",
    "    nombre: string;\n",
    "    edad: number;\n",
    "\n",
    "    constructor(nombre: string, edad: number) {//constructor clasico de una clase\n",
    "        this.nombre = nombre;\n",
    "        this.edad = edad;\n",
    "    }\n",
    "\n",
    "    saludar(): void {\n",
    "        console.log(`Hola, soy ${this.nombre} y tengo ${this.edad} años.`);\n",
    "    }\n",
    "}\n",
    "\n",
    "// Crear una instancia de la clase Persona\n",
    "let cesar = new Persona(\"Cesar\", 29);\n",
    "cesar.saludar(); // Output: Hola, soy Juan y tengo 30 años.\n",
    "\n",
    "// Destructuración de las propiedades del objeto persona\n",
    "const { nombre,  edad } = cesar;\n",
    "\n",
    "// Acceso a las propiedades extraídas\n",
    "console.log(\"Nombre:\", nombre); // Output: Nombre: Juan\n",
    "console.log(\"Edad:\", edad); // Output: Edad: 30\n",
    "\n",
    "\n"
   ]
  },
  {
   "cell_type": "markdown",
   "id": "a0280c25",
   "metadata": {},
   "source": [
    "\n",
    "## Interfaces: 📑\n",
    "\n",
    "Las interfaces en TypeScript permiten definir la forma de un objeto, especificando qué propiedades debe tener y qué tipo de valor deben tener esas propiedades.\n"
   ]
  },
  {
   "cell_type": "code",
   "execution_count": 24,
   "id": "1ede0fcc",
   "metadata": {},
   "outputs": [
    {
     "name": "stderr",
     "output_type": "stream",
     "text": [
      "12:47 - Parameter declaration expected.\n",
      "15:25 - Cannot find name 'dni'.\n"
     ]
    }
   ],
   "source": [
    "interface Animal {\n",
    "    nombre: string;\n",
    "    edad: number;\n",
    "    readonly numeroID: string; // Propiedad de solo lectura\n",
    "}\n",
    "\n",
    "class Perro implements Animal {\n",
    "    //se deben implementar todas las propiedades de la interfaz\n",
    "    nombre: string;\n",
    "    edad: number;\n",
    "    numeroID: string;\n",
    "    constructor(nombre: string, edad: number, : string) {\n",
    "        this.nombre = nombre;\n",
    "        this.edad = edad;\n",
    "        this.numeroID = dni;\n",
    "    }\n",
    "\n",
    "    toString(): string {\n",
    "        return `Hola soy un perro llamado ${this.nombre} y tengo ${this.edad} años... Digo guau guau🐕`;\n",
    "    }\n",
    "}\n",
    "\n",
    "let Koby = new Perro(\"Koby\", 2, \"1234\");\n",
    "console.log(String(Koby)); \n"
   ]
  },
  {
   "cell_type": "markdown",
   "id": "b5ef4ec8",
   "metadata": {},
   "source": [
    "\n",
    "## Tipos de Objetos: 🗃️\n",
    "\n",
    "Los objetos en TypeScript pueden tener diferentes formas y tipos, como objetos simples, objetos con propiedades opcionales, objetos con propiedades de solo lectura y entre otras."
   ]
  },
  {
   "cell_type": "code",
   "execution_count": null,
   "id": "d2f4ae38",
   "metadata": {},
   "outputs": [
    {
     "name": "stdout",
     "output_type": "stream",
     "text": [
      "{ nombre: 'Koby' }\n",
      "{ x: 10, y: 20 }\n"
     ]
    }
   ],
   "source": [
    "// Objeto con propiedades opcionales\n",
    "interface Mascota {\n",
    "    nombre: string;\n",
    "    edad?: number; // Propiedad opcional\n",
    "}\n",
    "\n",
    "let perro: Mascota = {\n",
    "    nombre: \"Koby\"\n",
    "};\n",
    "\n",
    "// Objeto con propiedades de solo lectura\n",
    "interface Punto {\n",
    "    readonly x: number;\n",
    "    readonly y: number;\n",
    "}\n",
    "\n",
    "let punto: Punto = { x: 10, y: 20 };\n",
    "// punto.x = 30; // Error: No se puede asignar a la propiedad de solo lectura 'x'\n",
    "\n",
    "console.log(perro);\n",
    "console.log(punto);"
   ]
  },
  {
   "cell_type": "markdown",
   "id": "7c118bb5",
   "metadata": {},
   "source": [
    "\n",
    "## Enums: 🏷️\n",
    "\n",
    "Los enums en TypeScript permiten definir un conjunto de constantes con nombres descriptivos, lo que facilita trabajar con conjuntos predefinidos de valores"
   ]
  },
  {
   "cell_type": "code",
   "execution_count": null,
   "id": "486e9783",
   "metadata": {},
   "outputs": [
    {
     "name": "stdout",
     "output_type": "stream",
     "text": [
      "0\n",
      "2\n",
      "acceder a los valores del enum:  Lunes\n",
      "acceder a DiaSemana:  {\n",
      "  '0': 'Lunes',\n",
      "  '1': 'Martes',\n",
      "  '2': 'Miércoles',\n",
      "  '3': 'Jueves',\n",
      "  '4': 'Viernes',\n",
      "  '5': 'Sábado',\n",
      "  '6': 'Domingo con sueño',\n",
      "  '7': '😀',\n",
      "  Lunes: 0,\n",
      "  Martes: 1,\n",
      "  'Miércoles': 2,\n",
      "  Jueves: 3,\n",
      "  Viernes: 4,\n",
      "  'Sábado': 5,\n",
      "  'Domingo con sueño': 6,\n",
      "  '😀': 7\n",
      "}\n",
      "acceder a DiaSemana con emoji:  7\n"
     ]
    }
   ],
   "source": [
    "enum DiaSemana {\n",
    "    Lunes,\n",
    "    Martes,\n",
    "    Miércoles,\n",
    "    Jueves,\n",
    "    Viernes,\n",
    "    Sábado,\n",
    "    \"Domingo con sueño\",\n",
    "    \"😀\"\n",
    "\n",
    "}\n",
    "\n",
    "// Acceder a los valores del enum\n",
    "console.log(DiaSemana.Lunes); // Output: 0\n",
    "console.log(DiaSemana.Miércoles); // Output: 2\n",
    "console.log( \"acceder a los valores del enum: \",DiaSemana[0]); // Output: \"Lunes\"\n",
    "console.log(\"acceder a DiaSemana: \",DiaSemana);\n",
    "console.log(\"acceder a DiaSemana con emoji: \",DiaSemana[\"😀\"]);\n",
    "\n"
   ]
  },
  {
   "cell_type": "markdown",
   "id": "cac6c7d3",
   "metadata": {},
   "source": [
    ":::{seealso} \n",
    "Resulta que en TypeScript podemos asignar emojis e incluso caracteres especiales como índices en un enum. 😲🎉 \n",
    "podemos usar emojis en nuestros enums y clases, pero lo que la bomba atomica nos enseño es que aunque podamos hacer algo no significa que lo debamos hacer💣💥.\n",
    ":::"
   ]
  },
  {
   "cell_type": "markdown",
   "id": "7a4ef165",
   "metadata": {},
   "source": [
    "\n",
    "## Tipos de Unión y Tipos de Intersección: 🔗\n",
    "\n",
    "TypeScript permite crear tipos de unión (`|`) y tipos de intersección (`&`) para combinar diferentes tipos de manera flexible"
   ]
  },
  {
   "cell_type": "code",
   "execution_count": null,
   "id": "fab67158",
   "metadata": {},
   "outputs": [
    {
     "name": "stdout",
     "output_type": "stream",
     "text": [
      "numeroOTexto: 10 tipo: number\n",
      "numeroOTexto: Hola tipo: string\n",
      "{ nombre: 'Helado', calorias: 200, tipo: 'dulce' }\n"
     ]
    }
   ],
   "source": [
    "// Definición de una variable que puede ser de tipo number o string\n",
    "let numeroOTexto: number | string;\n",
    "\n",
    "// Ejemplos de asignación de valores válidos\n",
    "numeroOTexto = 10;       // number\n",
    "console.log(`numeroOTexto: ${numeroOTexto} tipo: ${typeof numeroOTexto}`);\n",
    "numeroOTexto = \"Hola\";   // string\n",
    "console.log(`numeroOTexto: ${numeroOTexto} tipo: ${typeof numeroOTexto}`);\n",
    "// Ejemplo de asignación de un valor inválido\n",
    "// numeroOTexto = true;  // Error: Tipo 'boolean' no asignable a 'number | string'\n",
    "//esto es especialmente util cuando no sabes exactamente que tipo de datos debes usar en una entrada de texto en la web\n",
    "\n",
    "//Tipos de Intersección (&)\n",
    "\n",
    "// Definición de dos interfaces con propiedades diferentes\n",
    "interface Comida {\n",
    "    nombre: string;\n",
    "    tipo:  \"dulce\" |\"salado\";//si los tipos tambien pueden ser definidos como string para darle posibles valores predefinidos\n",
    "    costo?: number;\n",
    "    costo_envio?: 500 | 1000 | 1500;\n",
    "}\n",
    "\n",
    "interface Postre {\n",
    "    nombre: string;\n",
    "    calorias: number;\n",
    "}\n",
    "\n",
    "// Intersección de interfaces\n",
    "let helado: Comida & Postre = {\n",
    "    nombre: \"Helado\",\n",
    "    calorias: 200,\n",
    "    tipo: \"dulce\"\n",
    "};\n",
    "console.log(helado); // Output: { nombre: 'Helado', calorias: 200, tipo:\"dulce\" } // como se puede ver se unen las propiedades de ambas interfaces\n",
    "//sin embargo no se pueden unir dos propiedades con el mismo nombre si no son del mismo tipo\n"
   ]
  },
  {
   "cell_type": "markdown",
   "id": "7d696298",
   "metadata": {},
   "source": [
    ":::{seealso} \n",
    "Podemos ver que en `tipo: \"dulce\" | \"salado\"`, el operador `|` se utiliza para predefinir los posibles valores que puede tener la propiedad `tipo`, limitándolos a \"dulce\" o \"salado\". Del mismo modo, en `costo_envio`, que igualmente son valores opcionales, el operador `|` se utiliza para predefinir los valores permitidos.\n",
    ":::"
   ]
  },
  {
   "cell_type": "markdown",
   "id": "b96c21e5",
   "metadata": {},
   "source": [
    "\n",
    "## Type: 🧰\n",
    "\n",
    "El keyword `type` se utiliza para definir alias de tipo en TypeScript, permitiendo crear nombres personalizados para tipos existentes o complejos. "
   ]
  },
  {
   "cell_type": "code",
   "execution_count": null,
   "id": "d9c15e61",
   "metadata": {},
   "outputs": [
    {
     "name": "stdout",
     "output_type": "stream",
     "text": [
      "🚀 Juguete de Toy Story: {\n",
      "  nombre: 'Buzz Lightyear',\n",
      "  categoria: 'Figura de acción',\n",
      "  edadRecomendada: 6,\n",
      "  franquicia: 'Toy Story'\n",
      "}\n",
      "🤠 Juguete de Toy Story: {\n",
      "  nombre: 'Woody',\n",
      "  categoria: 'Muñeco de acción',\n",
      "  edadRecomendada: 4,\n",
      "  franquicia: 'Toy Story'\n",
      "}\n"
     ]
    }
   ],
   "source": [
    "// Definición de un alias de tipo para representar el tipo de juguete\n",
    "type Juguete = {\n",
    "    nombre: string;\n",
    "    categoria: string;\n",
    "    edadRecomendada: number;\n",
    "};\n",
    "\n",
    "// Definición de un alias de tipo para representar el tipo de juguete de Toy Story\n",
    "type JugueteToyStory = Juguete & { franquicia: string };\n",
    "\n",
    "// Ejemplo de juguetes de Toy Story\n",
    "let juguete1: JugueteToyStory = {\n",
    "    nombre: \"Buzz Lightyear\",\n",
    "    categoria: \"Figura de acción\",\n",
    "    edadRecomendada: 6,\n",
    "    franquicia: \"Toy Story\"\n",
    "};\n",
    "\n",
    "let juguete2: JugueteToyStory = {\n",
    "    nombre: \"Woody\",\n",
    "    categoria: \"Muñeco de acción\",\n",
    "    edadRecomendada: 4,\n",
    "    franquicia: \"Toy Story\"\n",
    "};\n",
    "\n",
    "// Imprimir emojis usando console.log\n",
    "console.log(\"🚀 Juguete de Toy Story:\", juguete1);\n",
    "console.log(\"🤠 Juguete de Toy Story:\", juguete2);\n"
   ]
  },
  {
   "cell_type": "markdown",
   "id": "da7dbdf2",
   "metadata": {},
   "source": [
    ":::{seealso} \n",
    "Se podría decir que el uso de uniones y tipos de intersección en TypeScript es una de las características más importantes, ya que permite un polimorfismo muy amplio que es utilizado en la mayoría de los frameworks modernos.\n",
    ":::\n"
   ]
  },
  {
   "cell_type": "markdown",
   "id": "e9a40f1a",
   "metadata": {},
   "source": [
    "\n",
    "## Tipos Genéricos: 🧬\n",
    "\n",
    "Los tipos genéricos permiten escribir funciones y estructuras de datos que puedan trabajar con una variedad de tipos.\n"
   ]
  },
  {
   "cell_type": "code",
   "execution_count": null,
   "id": "b78012a8",
   "metadata": {},
   "outputs": [
    {
     "name": "stdout",
     "output_type": "stream",
     "text": [
      "Longitud del array de números: 5\n",
      "Longitud del array de nombres: 3\n",
      "Tamaño de la pila de números: 3\n",
      "Tamaño de la pila de nombres: 3\n",
      "Tamaño de la pila: 3\n"
     ]
    }
   ],
   "source": [
    "// Definición de una función genérica que devuelve la longitud de un array\n",
    "function obtenerLongitud<T>(array: T[]): number {\n",
    "    return array.length;\n",
    "}\n",
    "\n",
    "// Definición de una clase genérica para una pila (stack)\n",
    "class Pila<T> {\n",
    "    private elementos: T[] = [];\n",
    "\n",
    "    // Método para agregar un elemento a la pila\n",
    "    agregar(elemento: T): void {\n",
    "        this.elementos.push(elemento);\n",
    "    }\n",
    "\n",
    "    // Método para sacar un elemento de la pila\n",
    "    sacar(): T | undefined {\n",
    "        return this.elementos.pop();\n",
    "    }\n",
    "\n",
    "    // Método para obtener el tamaño de la pila\n",
    "    obtenerTamaño(): number {//si tembien las funciones pueden tener acentos y caracteres especiales no emojies\n",
    "        return this.elementos.length;\n",
    "    }\n",
    "}\n",
    "\n",
    "// Uso de la función genérica con diferentes tipos de arrays\n",
    "let algunosNumeros = [1, 2, 3, 4, 5];\n",
    "let nombres = [\"Juan\", \"María\", \"Pedro\"];\n",
    "\n",
    "console.log(\"Longitud del array de números:\", obtenerLongitud(algunosNumeros)); // Output: 5\n",
    "console.log(\"Longitud del array de nombres:\", obtenerLongitud(nombres)); // Output: 3\n",
    "\n",
    "// Uso de la clase genérica para crear una pila de diferentes tipos de elementos\n",
    "let pilaNumeros = new Pila<number>();\n",
    "pilaNumeros.agregar(1);\n",
    "pilaNumeros.agregar(2);\n",
    "pilaNumeros.agregar(3);\n",
    "\n",
    "console.log(\"Tamaño de la pila de números:\", pilaNumeros.obtenerTamaño()); // Output: 3\n",
    "\n",
    "let pilaNombres = new Pila<string>();\n",
    "pilaNombres.agregar(\"Juan\");\n",
    "pilaNombres.agregar(\"María\");\n",
    "pilaNombres.agregar(\"Pedro\");\n",
    "\n",
    "console.log(\"Tamaño de la pila de nombres:\", pilaNombres.obtenerTamaño()); // Output: 3\n",
    "\n",
    "//o no ponerle tipo a la parametrizacion de la clase y dejar que typescript lo infiera\n",
    "let pila = new Pila();\n",
    "pila.agregar(\"Hola\");\n",
    "pila.agregar(\"Mundo\");\n",
    "pila.agregar(7);\n",
    "\n",
    "console.log(\"Tamaño de la pila:\", pila.obtenerTamaño()); // Output: 3"
   ]
  }
 ],
 "metadata": {
  "kernelspec": {
   "display_name": "TypeScript",
   "language": "typescript",
   "name": "tslab"
  },
  "language_info": {
   "codemirror_mode": {
    "mode": "typescript",
    "name": "javascript",
    "typescript": true
   },
   "file_extension": ".ts",
   "mimetype": "text/typescript",
   "name": "typescript",
   "version": "3.7.2"
  }
 },
 "nbformat": 4,
 "nbformat_minor": 5
}
