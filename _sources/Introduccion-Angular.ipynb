{
 "cells": [
  {
   "cell_type": "markdown",
   "id": "ee4c7952-a772-4424-a6c7-aa30311a2e20",
   "metadata": {},
   "source": [
    "# Introducción a Angular: Instalación , Creación del Proyecto y estructura de carpetas\n",
    "\n",
    "Angular es un framework de desarrollo de aplicaciones web creado por Google que permite construir aplicaciones de una sola página (SPA) de manera rápida y eficiente. Para comenzar a trabajar con Angular, primero necesitas instalar Angular CLI (Command Line Interface), que es una herramienta de línea de comandos que facilita la creación, el desarrollo y el despliegue de aplicaciones Angular.\n",
    "## Instalación y creacion de angular\n",
    "### Paso 1: Instalación de Node.js y npm\n",
    "\n",
    "Antes de instalar Angular CLI, asegúrate de tener Node.js y npm instalados en tu computadora. Puedes descargar e instalar Node.js desde su sitio web oficial: Node.js.\n",
    "\n",
    "### Paso 2: Instalación de Angular CLI\n",
    "\n",
    "Una vez que Node.js y npm estén instalados, puedes instalar Angular CLI globalmente en tu sistema utilizando npm. Abre tu terminal o línea de comandos y ejecuta el siguiente comando\n",
    "```bash\n",
    "    npm install -g @angular/cli\n",
    "```\n",
    "Este comando instalará Angular CLI de forma global en tu sistema, lo que te permitirá acceder a él desde cualquier ubicación en tu computadora.\n",
    "\n",
    "### Paso 3: Creación de un Nuevo Proyecto Angular\n",
    "Después de instalar Angular CLI, puedes crear un nuevo proyecto Angular utilizando el comando `ng new`. Abre tu terminal o línea de comandos, navega hasta la ubicación donde deseas crear tu proyecto y ejecuta el siguiente comando:\n",
    "```bash\n",
    "    ng new nombre-del-proyecto\n",
    "```\n",
    "\n",
    "remplaza `nombre-del-proyecto` con el nombre que desees para tu proyecto. Angular CLI creará una nueva carpeta con el nombre del proyecto y generará la estructura inicial del proyecto dentro de ella.\n",
    "\n",
    "en este te pedira que selecciones algunas opciones en este caso usaremos sass como editor de hoja de estilos\n",
    "\n",
    "### Paso 4: Ejecutar la Aplicación Angular\n",
    "Una vez que se haya creado el proyecto, navega a la carpeta del proyecto utilizando `cd nombre-del-proyecto` y luego ejecuta el siguiente comando para iniciar el servidor de desarrollo de Angular:\n",
    "\n",
    "```bash\n",
    "ng serve\n",
    "```\n",
    "\n",
    "Esto iniciará el servidor de desarrollo y tu aplicación Angular estará disponible en la url especificada por la salida. Puedes abrir esta URL en tu navegador web para ver tu aplicación en funcionamiento.\n",
    "\n"
   ]
  }
 ],
 "metadata": {
  "kernelspec": {
   "display_name": "TypeScript",
   "language": "typescript",
   "name": "tslab"
  },
  "language_info": {
   "codemirror_mode": {
    "mode": "typescript",
    "name": "javascript",
    "typescript": true
   },
   "file_extension": ".ts",
   "mimetype": "text/typescript",
   "name": "typescript",
   "version": "3.7.2"
  }
 },
 "nbformat": 4,
 "nbformat_minor": 5
}
