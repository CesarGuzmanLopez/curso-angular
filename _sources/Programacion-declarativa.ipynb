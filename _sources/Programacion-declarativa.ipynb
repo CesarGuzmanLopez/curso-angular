{
 "cells": [
  {
   "cell_type": "markdown",
   "id": "ee4c7952-a772-4424-a6c7-aa30311a2e20",
   "metadata": {},
   "source": [
    "# Programacion declarativa\n",
    "\n",
    "TypeScript, al ser un lenguaje multi-paradigma, permite la programación declarativa, una forma de escribir código que se centra en \"qué hacer\" en lugar de \"cómo hacerlo\". Esto resulta en un código más conciso, legible y fácil de mantener. Veamos algunos aspectos clave de la programación declarativa en TypeScript:\n"
   ]
  },
  {
   "cell_type": "markdown",
   "id": "1cf4ca28",
   "metadata": {},
   "source": [
    "\n",
    "## **Funciones de Orden Superior**   🚀\n",
    "tenemos el uso de funciones `map`, `filter`, `reduce`, `foreach`  y muchos mas en arreglos. aqui un lugar de [consultar](https://www.typescriptlang.org/docs/handbook/2/functions.html) sin embargo todas de estas se utilizan con funciones anonimas y flecha(lamda)\n"
   ]
  },
  {
   "cell_type": "code",
   "execution_count": 2,
   "id": "0623a4cc",
   "metadata": {},
   "outputs": [
    {
     "name": "stdout",
     "output_type": "stream",
     "text": [
      "Números duplicados: [ 2, 4, 6, 8, 10 ]\n",
      "Números pares: [ 2, 4 ]\n",
      "Suma total: 15\n",
      "Número multiplicado por 2: 2\n",
      "Número multiplicado por 2: 4\n",
      "Número multiplicado por 2: 6\n",
      "Número multiplicado por 2: 8\n",
      "Número multiplicado por 2: 10\n",
      "Primer nombre que empieza con 'A': Ana\n",
      "¿Algun nombre es largo?: true\n",
      "¿Todos los nombres son largos?: true\n",
      "Nombres ordenados alfabéticamente: [ 'Ana', 'Carlos', 'Juan', 'María', 'Pedro' ]\n",
      "Caracteres de los nombres: [\n",
      "  'A', 'n', 'a', 'C', 'a',\n",
      "  'r', 'l', 'o', 's', 'J',\n",
      "  'u', 'a', 'n', 'M', 'a',\n",
      "  'r', 'í', 'a', 'P', 'e',\n",
      "  'd', 'r', 'o'\n",
      "]\n",
      "Nombres seleccionados: [ 'Carlos', 'Juan', 'María' ]\n",
      "Nombres modificados: [ 'Luis', 'Carlos', 'Juan', 'María', 'Pedro' ]\n"
     ]
    }
   ],
   "source": [
    "// Arreglo de números\n",
    "const numeros = [1, 2, 3, 4, 5];\n",
    "\n",
    "// Usando la función map para duplicar cada número\n",
    "const numerosDuplicados = numeros.map(numero => numero * 2);\n",
    "console.log(\"Números duplicados:\", numerosDuplicados); // Output: [2, 4, 6, 8, 10]\n",
    "\n",
    "// Usando la función filter para filtrar números pares\n",
    "const numerosPares = numeros.filter(numero => numero % 2 === 0);\n",
    "console.log(\"Números pares:\", numerosPares); // Output: [2, 4]\n",
    "\n",
    "// Usando la función reduce para sumar todos los números\n",
    "const sumaTotal = numeros.reduce((acumulador, numero) => acumulador + numero, 0);\n",
    "console.log(\"Suma total:\", sumaTotal); // Output: 15\n",
    "\n",
    "// Usando la función forEach para mostrar cada número multiplicado por 2\n",
    "numeros.forEach(numero => console.log(\"Número multiplicado por 2:\", numero * 2));\n",
    "\n",
    "\n",
    "const nombres = [\"Juan\", \"María\", \"Pedro\", \"Ana\", \"Carlos\"];\n",
    "\n",
    "// Encuentra el primer nombre que empieza con \"A\"\n",
    "const primerNombreConA = nombres.find(nombre => nombre.startsWith(\"A\"));\n",
    "console.log(\"Primer nombre que empieza con 'A':\", primerNombreConA); // Output: Ana\n",
    "\n",
    "// Verifica si al menos un nombre tiene más de 4 letras\n",
    "const algunNombreLargo = nombres.some(nombre => nombre.length > 4);\n",
    "console.log(\"¿Algun nombre es largo?:\", algunNombreLargo); // Output: true\n",
    "\n",
    "// Verifica si todos los nombres tienen más de 2 letras\n",
    "const todosNombresLargos = nombres.every(nombre => nombre.length > 2);\n",
    "console.log(\"¿Todos los nombres son largos?:\", todosNombresLargos); // Output: true\n",
    "\n",
    "// Ordena los nombres alfabéticamente\n",
    "const nombresOrdenados = nombres.sort();\n",
    "console.log(\"Nombres ordenados alfabéticamente:\", nombresOrdenados); \n",
    "\n",
    "// Transforma cada nombre en un arreglo de caracteres y aplana el resultado\n",
    "const caracteresNombres = nombres.flatMap(nombre => nombre.split(\"\"));\n",
    "console.log(\"Caracteres de los nombres:\", caracteresNombres); \n",
    "\n",
    "// Retorna una porción del arreglo original\n",
    "const nombresSeleccionados = nombres.slice(1, 4); // Desde el índice 1 hasta el 4 (no inclusive)\n",
    "console.log(\"Nombres seleccionados:\", nombresSeleccionados); \n",
    "\n",
    "// Cambia el contenido del arreglo original eliminando el primer elemento y agregando uno nuevo\n",
    "const nombresModificados = nombres.splice(0, 1, \"Luis\"); // Elimina el primer elemento y lo reemplaza por \"Luis\"\n",
    "console.log(\"Nombres modificados:\", nombresModificados); \n"
   ]
  },
  {
   "cell_type": "markdown",
   "id": "9006f5fb",
   "metadata": {},
   "source": [
    "```{note}\n",
    "Hay una cantidad gigante de funciones de orden superior en typescript y pueden ser usadas de duferentes formas\n",
    "se recomienda leer mas al respecto en la documentacion oficial\n",
    "```"
   ]
  },
  {
   "cell_type": "markdown",
   "id": "64e14924",
   "metadata": {},
   "source": [
    "\n",
    "## **Composición de Funciones** 🔄\n",
    "La composición de funciones es un concepto fundamental en programación funcional que consiste en combinar dos o más funciones para crear una nueva función. Esta nueva función ejecuta las funciones originales en secuencia, pasando el resultado de una función como entrada a la siguiente. Esto permite crear cadenas de transformaciones de datos de manera modular y reutilizable.\n",
    "\n",
    "Por ejemplo, si tenemos dos funciones f y g, la composición de estas funciones se representa como f(g(x)), lo que significa que primero se aplica la función g al argumento x, y luego se aplica la función f al resultado de g(x).\n",
    "\n",
    "Aquí tienes un ejemplo en TypeScript que muestra cómo componer dos funciones:"
   ]
  },
  {
   "cell_type": "code",
   "execution_count": 5,
   "id": "9308000f",
   "metadata": {},
   "outputs": [
    {
     "name": "stdout",
     "output_type": "stream",
     "text": [
      "36\n"
     ]
    }
   ],
   "source": [
    "// Definición de funciones\n",
    "const double = (x: number): number => x * 2;\n",
    "const square = (x: number): number => x * x;\n",
    "\n",
    "// Función de composición\n",
    "const compose = <T, U, V>(f: (x: T) => U, g: (y: U) => V) => (x: T): V => {\n",
    "  return g(f(x));\n",
    "};\n",
    "\n",
    "// Composición de las funciones double y square\n",
    "const doubleThenSquare = compose(double, square);\n",
    "\n",
    "// Ejemplo de uso de la función compuesta\n",
    "console.log(doubleThenSquare(3)); // Output: 36 (double(3) = 6, square(6) = 36)\n"
   ]
  },
  {
   "cell_type": "markdown",
   "id": "6e37c7e3",
   "metadata": {},
   "source": [
    "```{note}\n",
    "Ya que es un concepto importante pero un poco enredado se recomienda usar librerias que te permiten usar programacion funcional mas agilmente y facil como Ramda y Lodash/fp esta ultima que es implementada nativamente en angular\n",
    "```"
   ]
  },
  {
   "cell_type": "markdown",
   "id": "2fa2b176",
   "metadata": {},
   "source": [
    "\n",
    "## **Inmutabilidad y Estructuras Persistentes** 🔒\n",
    "La inmutabilidad y las estructuras persistentes son conceptos fundamentales en la programación funcional que se centran en garantizar que los datos no cambien después de su creación. Esto significa que una vez que se crea un dato, no se puede modificar, lo que evita efectos secundarios no deseados y facilita el razonamiento sobre el código."
   ]
  },
  {
   "cell_type": "code",
   "execution_count": 1,
   "id": "9b9bacb4",
   "metadata": {},
   "outputs": [
    {
     "name": "stdout",
     "output_type": "stream",
     "text": [
      "[ 1, 2, 3, 4, 5 ]\n",
      "[ 1, 2, 3, 4, 5, 6 ]\n"
     ]
    }
   ],
   "source": [
    "import { List } from 'immutable';//npm install immutable\n",
    "\n",
    "// Crear una lista inmutable\n",
    "const originalList = List([1, 2, 3, 4, 5]);\n",
    "\n",
    "// Agregar un elemento a la lista original (inmutabilidad)\n",
    "const modifiedList = originalList.push(6);\n",
    "\n",
    "console.log(originalList.toArray()); // Output: [1, 2, 3, 4, 5]\n",
    "console.log(modifiedList.toArray()); // Output: [1, 2, 3, 4, 5, 6]\n"
   ]
  },
  {
   "cell_type": "markdown",
   "id": "28806e43",
   "metadata": {},
   "source": [
    "```{note}\n",
    "Para este caso en especifico tuve que salirme del standar de TypeScript, ya que la inmutabilidad todavia es un debate activo en  typescript y este da ejemplos de inmutabilidad con el standar en su documentacion [aqui el ejemplo](https://www.typescriptlang.org/play/?ssl=35&ssc=43&pln=35&pc=49#code/PTAECkEMDdIZQMYCcCWAHALqFBnUlQAbSAOwHMBXSMgU1AHcUMALfUAMxvocgE88MAe1AATGgmJI6LSBgBQIUDkEBbOoPahegiklCCARgCtxGPCMEkA5FgTNStAHSgAKszorBOLGiSqUJDQkWLgKYAiW3qAAtAzMKHZKfAL2WCx0sIQUdPSWNqB2DjSOcnIRJFHuhISCAOqCSIQioAC8oABEABI01cL1jSLtANyligCaOgWkJIK29uR0VTX9TaAz9AA0rrxoNIiomAwo1aBkKNA0YVqTpKA0SH56kAY6afE4WwbikBQ4dNoUBg6Va0LCWOiyK5ICjBFBqbAVDA0SAiEpyJZ1BqrNpdFBAgbDUZgWrMXhTKT4F4UEIqFTU57HJi8AD8oAAgkRZvpNCxcNg8M9XlCaCIKAgAmQCqo0IQaAAPJkI666KViZwASU0AKmJFAUlFCGk7iuJAoKi+eg0oF55Dw9HiiQQt0KCy26V16QpkApspwOCuNrIAmEAGsaDQ0NakJAECHuWjFABVHASqWI-lsMhSWQcFBIKLeCNbZiCeg0C56Xl4diQY7+xQWei6ggGJhxIKgX6pwwmBBmNHlKIqXgAYUiGFIGAA8sZTK1QABvOSgUAqHBkABcHW6vVAK0GGzkAF8Rldh2PEZOZ72QngZlgAI4UJgQtPeSfWksUMjMT7fX6XIoZY6koGDHIQq6QGGBTzLQwagGg3pmNyn7qLOfZbOwDRXPKkAqDKOR0E6uourQq7rhupTnuOV7oRgjhrpKOKdHi+6Elcg5YGopApBkkBZBCbw5mgggBFg778KhSRqJ81IBqkUk9nOTB-IQmgqHwMFFAiSJICQ-GELwzhuHyxFXF8WkLM0XbkKA16mI47BSDQABexSlJxq68AAIjQ7ABC+hkXu+wT2X285hfRTnhm5AAUS4roxW5dD0NR7liB7HgAlKeigkh2txKeFfJOYIbkkG67i6tqxH3pZZHpFcYn3PphA4MZOx7Mg6BYIwJwaJwej3I8eABKhfxTH8OCUXIw6+f5JCBaONGhXRDHrvOuLpQSuVgCZdoNCGvHSXQWFPA8yTWoIggzZ5w4AGJ+OVbIXWSbSRY5zlxQA2ri7QALo5bNvCPWVQQvdGRloL8zCxe0bFA1cyaptFrkeMiFTKiBGDQlEMhvGhN78lcEmpukJ2diQYiVu4oAloIqJEtsuz7D1dOQAKHBcHcco4wQOC8MEkBynT11HVd2D4X4Fz4iGEpXIwLCS3SE4GLKoiyAQ9oJKwNW3AtzRjeTLidazmAk6YKCWCh5O4fhvqUSAOFynhBEboQL7Rm1zuu7KG4YJ10SMGIi3kNEpAiNE+kPKW8tAA) que da \n",
    "y tambien para [literales](https://www.typescriptlang.org/play/?#code/PTAEBUE8AcFMGUDGAnAltALqAFgQwM6j4D2AtrKAGYCuAdkXIqrgDaiIGyGXHKguoMsZK0KpaAKBBFi1ZIgqJiAE1gA6CVLABJetFzIMAGlC5+xLMUqgM2CvmrRovLKkJKAbsNjLQ4mzAUAO6oqrTiAOZaprS+tAbIxCG0EaAAFKCwAB64pNAssABcGIEAtCFhkaW4saXxyInJqQCUMb6CAOT40UEu2OzEXmgpNnhYlKjI+Bga0QCC-ILCrH6EZqS8isS0KLBCRNQARiVwoFamAywFiBioXgFwGtIA6mOjbqDkNWKEtrhYACIABKwK7EUDPXgsZQA1YXabDCImQ7ULC4aIIyJw2gWUDA0EscGQ5DQ2HifChCi2KmBIiQaawUizJS0aY4AnEYnQ0AAXjxILBEKhMIA3BIClhsKgub4+cDUEKSaLQNJbB8PmZMSNDrAONR8BRBHCJZppOApdw6DdUNsbLgANZcUxXIgYRHdVSIFgGCg0Ha3W2sQlBfBzWiQeBuyJpAwRQquxHNMVBpKh8ORxFpOxgmVJiQpkNhiNRlJZ6XCvPRc0fP3W23bFiQUyIBSYX52BNYgRCERsfGCmUAiSe73IX1WgP0Av4ADytEbAsJMeQcf5HMVpLz07nC45WY5ueTYJDO8gi+IZcPprA1cIEsIkFkoBHPtAcwACtpCEEpYh+vqKDoG1WRscF8FwJtBGiBsm1wFtYDbC59EMVBEGoUdFh7VhCk0F8xyoCdgOdYN8AAMUmaZyK8AA5ahSB1KZl1XABGUAAB9QAAJnY0AAGYeIAFh4gBWLdjzIiiMCo2BaPo4R8DSZixJI8ipiku4ZLohiFOYgAGSsJVAZwhFoW4g0gItZIY3k+KPFTJOkqz5LSYzYFM5grgs8MnOQStpDmcZJNACJvR2WATDVQhkHQw18FoDo0ScAQfFAgY8gKLIzkOAArXUMHwZltjZUhIAAVQNPg+QAbwkUBQHich4wBeBcEOYZcABIwJAAXzFaJ4FgChsCSPwsDdb4eGQUhCAAAwaoo8RatrxA6mbUrm3IFq1CIZuiWAvHoWxZAifojQ+VQJloFKCAuFlphqGYIAtOEdT1A1omperNvYGpXVQF0-xqCIKBqJtbkazQSvK4Q1HmmyAQAYUgUypQ6vrpAAIV1XAAM+MqKq6L7yCMxI4EMJsOHoQGUnCiBAiQNBMGiSmcSwXHPu7ZY2CGClbX8T6TnsekhCZJ7vGiDUqFgf45GCX9+hCF0C1AR9qFS5RwUinAkn2mHNDurAoZ2PAUkiaHKtAGq6vmprSP+UgOq67rTHcIqMHRsBXjcvEboNsk1iS1AUowTWO2IHK8oiux6CNV6yC4aIzHD3KbkwrnQB-VD+g1rh4qwangb8VkhFwXxznRaRSFRVqCiylOsEzv8ftoWYjYLs2Kth765QAJVwAA7-BwIBD2fdd4v-YuCIx3+UDiDYSaqFQLIMFl3xlH+XATBqXx8jghPpB-bwVafN1pfzlQQbvJZezEedxHUMeBgn50SB6Xh7W-QR+gSCD8BwiQBtMg5HSrAc2hA+QAG0qpEwWgCDGaAaiwm6iYGBNs8R22wIkYgABHZBABdF2z9phiiAA) pero son mas complejos que la libreria `inmutable` la cual pareciera se convertira parte del standar \n",
    "```"
   ]
  },
  {
   "cell_type": "markdown",
   "id": "ddc46bea",
   "metadata": {},
   "source": [
    "\n",
    "## **Flujo de Control Declarativo** 🎭\n",
    "Uso de condicionales ternarios para controlar el flujo del programa de manera declarativa.\n",
    "\n",
    "\n"
   ]
  },
  {
   "cell_type": "code",
   "execution_count": null,
   "id": "4e1e404b",
   "metadata": {},
   "outputs": [],
   "source": [
    "const age = 20;\n",
    "const message = age >= 18 ? 'Eres mayor de edad' : 'Eres menor de edad';\n",
    "\n",
    "console.log(message); // Output: 'Eres mayor de edad'\n"
   ]
  }
 ],
 "metadata": {
  "kernelspec": {
   "display_name": "TypeScript",
   "language": "typescript",
   "name": "tslab"
  },
  "language_info": {
   "codemirror_mode": {
    "mode": "typescript",
    "name": "javascript",
    "typescript": true
   },
   "file_extension": ".ts",
   "mimetype": "text/typescript",
   "name": "typescript",
   "version": "3.7.2"
  }
 },
 "nbformat": 4,
 "nbformat_minor": 5
}
