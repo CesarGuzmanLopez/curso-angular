{
 "cells": [
  {
   "cell_type": "markdown",
   "id": "ee4c7952-a772-4424-a6c7-aa30311a2e20",
   "metadata": {},
   "source": [
    "# Concurrencia\n",
    "## Async/Await ⏳\n",
    "\n",
    "Async/Await es una forma moderna y más legible de trabajar con operaciones asíncronas en TypeScript. Permite escribir código asincrónico de manera síncrona, facilitando el manejo de promesas y evitando el anidamiento excesivo de callbacks.\n"
   ]
  },
  {
   "cell_type": "code",
   "execution_count": 6,
   "id": "03eeeeca",
   "metadata": {},
   "outputs": [
    {
     "name": "stdout",
     "output_type": "stream",
     "text": [
      "Iniciando operación...\n",
      "Promise { <pending> }\n"
     ]
    },
    {
     "name": "stdout",
     "output_type": "stream",
     "text": [
      "Operación completada.\n"
     ]
    }
   ],
   "source": [
    "// Función asincrónica que simula una operación de espera\n",
    "const esperar = (ms: number) => {\n",
    "  return new Promise(resolve => setTimeout(resolve, ms));\n",
    "};\n",
    "\n",
    "// Función asincrónica que realiza una operación y espera\n",
    "const operacionAsincronica = async () => {\n",
    "  console.log(\"Iniciando operación...\");\n",
    "\n",
    "  try {\n",
    "    // Simular una espera de 2 segundos\n",
    "    await esperar(2000);\n",
    "\n",
    "    console.log(\"Operación completada.\");\n",
    "  } catch (error) {\n",
    "    console.error(\"Error en la operación:\", error);\n",
    "  }\n",
    "};\n",
    "\n",
    "// Llamar a la función asincrónica\n",
    "operacionAsincronica();"
   ]
  },
  {
   "cell_type": "markdown",
   "id": "b5472295",
   "metadata": {},
   "source": [
    "\n",
    "## Promesas 🤝\n",
    "\n",
    "Las promesas son [monadas](./Programacion-declarativa) que representan la eventual finalización (o falla) de una operación asincrónica y su valor resultante.\n",
    "**Las promesas simplemente se pueden usar de esta forma**"
   ]
  },
  {
   "cell_type": "code",
   "execution_count": 5,
   "id": "e180a1b7",
   "metadata": {},
   "outputs": [
    {
     "name": "stdout",
     "output_type": "stream",
     "text": [
      "Iniciando operación...\n",
      "Promise { <pending> }\n"
     ]
    },
    {
     "name": "stdout",
     "output_type": "stream",
     "text": [
      "La operación se completó después de 200 milisegundos.\n"
     ]
    }
   ],
   "source": [
    "// Ejemplo de creación y uso de una promesa en TypeScript\n",
    "function tomaTuTiempo(ms: number): Promise<string> {\n",
    "  return new Promise((resolve, reject) => {\n",
    "    setTimeout(() => {\n",
    "      resolve(`La operación se completó después de ${ms} milisegundos.`);\n",
    "    }, ms);\n",
    "  });\n",
    "}\n",
    "\n",
    "console.log(\"Iniciando operación...\");\n",
    "\n",
    "tomaTuTiempo(200)\n",
    "  .then((mensaje) => {\n",
    "    console.log(mensaje); // Output: La operación se completó después de 2000 milisegundos.\n",
    "  })\n",
    "  .catch((error) => {\n",
    "    console.error(\"Ocurrió un error:\", error);\n",
    "  });\n"
   ]
  },
  {
   "cell_type": "markdown",
   "id": "ffd2845f",
   "metadata": {},
   "source": [
    "**Aqui un ejemplo de como se usaria con async y await ya que eventualmente esta siempre van de la mano**\n",
    "las funciones await siempre esperara que acabe una funcion y las funciones async siempre regresan una promesa "
   ]
  },
  {
   "cell_type": "code",
   "execution_count": 3,
   "id": "4b51a342",
   "metadata": {},
   "outputs": [
    {
     "name": "stdout",
     "output_type": "stream",
     "text": [
      "Iniciando operación...\n",
      "Promise { <pending> }\n"
     ]
    }
   ],
   "source": [
    "// Ejemplo de uso de async/await con una función asíncrona que devuelve una promesa en TypeScript\n",
    "async function ejecutarOperacion(): Promise<void> {\n",
    "    console.log(\"Iniciando operación...\");\n",
    "    \n",
    "    try {\n",
    "      const mensaje = await tomaTuTiempo(2000);\n",
    "      console.log(mensaje); // Output: La operación se completó después de 2000 milisegundos.\n",
    "    } catch (error) {\n",
    "      console.error(\"Ocurrió un error:\", error);\n",
    "    }\n",
    "  }\n",
    "  \n",
    "\n",
    "  \n",
    "  // Llamada a la función asincrónica\n",
    "  ejecutarOperacion();\n",
    "  "
   ]
  },
  {
   "cell_type": "markdown",
   "id": "45cbe473",
   "metadata": {},
   "source": [
    "## Concurrencia 🔀\n",
    "\n",
    "La concurrencia en TypeScript es como tener varios hilos de ejecución trabajando al mismo tiempo, lo que nos permite realizar múltiples tareas de manera eficiente. Para esperar que varias tareas asíncronas se completen al mismo tiempo, utilizamos `Promise.all`. Esta función nos permite esperar a que todas las promesas se resuelvan, lo que significa que esperamos a que todas las tareas finalicen antes de continuar con el flujo de ejecución."
   ]
  },
  {
   "cell_type": "code",
   "execution_count": 4,
   "id": "b02f04b9",
   "metadata": {},
   "outputs": [
    {
     "name": "stdout",
     "output_type": "stream",
     "text": [
      "Iniciando ejecución concurrente...\n",
      "Promise { <pending> }\n"
     ]
    },
    {
     "name": "stdout",
     "output_type": "stream",
     "text": [
      "La operación se completó después de 200 milisegundos.\n",
      "Operación completada.\n",
      "La operación se completó después de 2000 milisegundos.\n",
      "Tarea 1 completada.\n",
      "Tarea 2 completada.\n",
      "Resultados: [ 1, 2 ]\n",
      "Todas las tareas han sido completadas.\n"
     ]
    }
   ],
   "source": [
    "// Ejemplo de concurrencia con Promesas y Promise.all en TypeScript\n",
    "async function tarea1(): Promise<number> {\n",
    "  return new Promise(resolve => {\n",
    "    setTimeout(() => {\n",
    "      console.log(\"Tarea 1 completada.\");\n",
    "      resolve(1);\n",
    "    }, 2000);\n",
    "  });\n",
    "}\n",
    "\n",
    "async function tarea2(): Promise<number> {\n",
    "  return new Promise(resolve => {\n",
    "    setTimeout(() => {\n",
    "      console.log(\"Tarea 2 completada.\");\n",
    "      resolve(2);\n",
    "    }, 3000);\n",
    "  });\n",
    "}\n",
    "\n",
    "async function ejecutarConcurrencia(): Promise<void> {\n",
    "  console.log(\"Iniciando ejecución concurrente...\");\n",
    "  \n",
    "  try {\n",
    "    const resultados = await Promise.all([tarea1(), tarea2()]);\n",
    "    console.log(\"Resultados:\", resultados); // Output: Resultados: [1, 2]\n",
    "    console.log(\"Todas las tareas han sido completadas.\");\n",
    "  } catch (error) {\n",
    "    console.error(\"Ocurrió un error:\", error);\n",
    "  }\n",
    "}\n",
    "\n",
    "\n",
    "ejecutarConcurrencia();\n"
   ]
  },
  {
   "cell_type": "markdown",
   "id": "a59c6de5",
   "metadata": {},
   "source": [
    "## Web Workers 💼\n",
    "\n",
    "Los Web Workers son un mecanismo de concurrencia en navegadores web que permite ejecutar scripts en segundo plano, separados del hilo principal de ejecución de JavaScript, lo que mejora la capacidad de respuesta de las aplicaciones y la experiencia del usuario.\n",
    "\n",
    "``` typescript \n",
    "// worker.ts\n",
    "self.onmessage = function(event) {\n",
    "  const data = event.data;\n",
    "  console.log(\"Mensaje recibido en el worker:\", data);\n",
    "  const result = data * data;\n",
    "  self.postMessage(result);\n",
    "}\n",
    "\n",
    "// main.ts\n",
    "const worker = new Worker('worker.js');\n",
    "worker.onmessage = function(event) {\n",
    "  console.log(\"Resultado recibido desde el worker:\", event.data);\n",
    "}\n",
    "\n",
    "const dataToSend = 5;\n",
    "console.log(\"Enviando mensaje al worker:\", dataToSend);\n",
    "worker.postMessage(dataToSend);\n",
    "\n",
    "```\n",
    "bien este codigo debe ser dividido en 2 archivos, basicamente es analogo al paso de mensajes entre 2 programas ejecutandose"
   ]
  }
 ],
 "metadata": {
  "kernelspec": {
   "display_name": "TypeScript",
   "language": "typescript",
   "name": "tslab"
  },
  "language_info": {
   "codemirror_mode": {
    "mode": "typescript",
    "name": "javascript",
    "typescript": true
   },
   "file_extension": ".ts",
   "mimetype": "text/typescript",
   "name": "typescript",
   "version": "3.7.2"
  }
 },
 "nbformat": 4,
 "nbformat_minor": 5
}
